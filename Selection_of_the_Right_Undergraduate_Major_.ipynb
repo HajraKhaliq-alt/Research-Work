{
  "nbformat": 4,
  "nbformat_minor": 0,
  "metadata": {
    "colab": {
      "name": "Selection of the Right Undergraduate Major .ipynb",
      "provenance": [],
      "collapsed_sections": [],
      "toc_visible": true
    },
    "kernelspec": {
      "name": "python3",
      "display_name": "Python 3"
    },
    "language_info": {
      "name": "python"
    },
    "widgets": {
      "application/vnd.jupyter.widget-state+json": {
        "405d08eaeb7b405f9c17728e58124f96": {
          "model_module": "@jupyter-widgets/controls",
          "model_name": "HBoxModel",
          "model_module_version": "1.5.0",
          "state": {
            "_view_name": "HBoxView",
            "_dom_classes": [],
            "_model_name": "HBoxModel",
            "_view_module": "@jupyter-widgets/controls",
            "_model_module_version": "1.5.0",
            "_view_count": null,
            "_view_module_version": "1.5.0",
            "box_style": "",
            "layout": "IPY_MODEL_3efea62e550a42698d948d44a0b0ae67",
            "_model_module": "@jupyter-widgets/controls",
            "children": [
              "IPY_MODEL_c729d2f82b24437cb1bd1652f8e17c74",
              "IPY_MODEL_f03be62342074429895078a6718251a1",
              "IPY_MODEL_b203d929353d4c6c9260afe41c4c4eb0"
            ]
          }
        },
        "3efea62e550a42698d948d44a0b0ae67": {
          "model_module": "@jupyter-widgets/base",
          "model_name": "LayoutModel",
          "model_module_version": "1.2.0",
          "state": {
            "_view_name": "LayoutView",
            "grid_template_rows": null,
            "right": null,
            "justify_content": null,
            "_view_module": "@jupyter-widgets/base",
            "overflow": null,
            "_model_module_version": "1.2.0",
            "_view_count": null,
            "flex_flow": "row wrap",
            "width": "100%",
            "min_width": null,
            "border": null,
            "align_items": null,
            "bottom": null,
            "_model_module": "@jupyter-widgets/base",
            "top": null,
            "grid_column": null,
            "overflow_y": null,
            "overflow_x": null,
            "grid_auto_flow": null,
            "grid_area": null,
            "grid_template_columns": null,
            "flex": null,
            "_model_name": "LayoutModel",
            "justify_items": null,
            "grid_row": null,
            "max_height": null,
            "align_content": null,
            "visibility": null,
            "align_self": null,
            "height": null,
            "min_height": null,
            "padding": null,
            "grid_auto_rows": null,
            "grid_gap": null,
            "max_width": null,
            "order": null,
            "_view_module_version": "1.2.0",
            "grid_template_areas": null,
            "object_position": null,
            "object_fit": null,
            "grid_auto_columns": null,
            "margin": null,
            "display": "inline-flex",
            "left": null
          }
        },
        "c729d2f82b24437cb1bd1652f8e17c74": {
          "model_module": "@jupyter-widgets/controls",
          "model_name": "HTMLModel",
          "model_module_version": "1.5.0",
          "state": {
            "_view_name": "HTMLView",
            "style": "IPY_MODEL_9772d2a66ad049889e3d59b29babf54b",
            "_dom_classes": [],
            "description": "",
            "_model_name": "HTMLModel",
            "placeholder": "​",
            "_view_module": "@jupyter-widgets/controls",
            "_model_module_version": "1.5.0",
            "value": "Done! Use &#x27;show&#x27; commands to display/save.   ",
            "_view_count": null,
            "_view_module_version": "1.5.0",
            "description_tooltip": null,
            "_model_module": "@jupyter-widgets/controls",
            "layout": "IPY_MODEL_661e29db09b3458a906ffc834b00ae8e"
          }
        },
        "f03be62342074429895078a6718251a1": {
          "model_module": "@jupyter-widgets/controls",
          "model_name": "FloatProgressModel",
          "model_module_version": "1.5.0",
          "state": {
            "_view_name": "ProgressView",
            "style": "IPY_MODEL_a5349fa05b63487e85fd3ee47fa954c4",
            "_dom_classes": [],
            "description": "",
            "_model_name": "FloatProgressModel",
            "bar_style": "success",
            "max": 1,
            "_view_module": "@jupyter-widgets/controls",
            "_model_module_version": "1.5.0",
            "value": 1,
            "_view_count": null,
            "_view_module_version": "1.5.0",
            "orientation": "horizontal",
            "min": 0,
            "description_tooltip": null,
            "_model_module": "@jupyter-widgets/controls",
            "layout": "IPY_MODEL_de21026de7c04203a7192472e86102d3"
          }
        },
        "b203d929353d4c6c9260afe41c4c4eb0": {
          "model_module": "@jupyter-widgets/controls",
          "model_name": "HTMLModel",
          "model_module_version": "1.5.0",
          "state": {
            "_view_name": "HTMLView",
            "style": "IPY_MODEL_c35d928242dd48d69b0cecb7596a2755",
            "_dom_classes": [],
            "description": "",
            "_model_name": "HTMLModel",
            "placeholder": "​",
            "_view_module": "@jupyter-widgets/controls",
            "_model_module_version": "1.5.0",
            "value": " [100%]   00:01 -&gt; (00:00 left)",
            "_view_count": null,
            "_view_module_version": "1.5.0",
            "description_tooltip": null,
            "_model_module": "@jupyter-widgets/controls",
            "layout": "IPY_MODEL_d4d098de6ec44b73be8574dc4143d149"
          }
        },
        "9772d2a66ad049889e3d59b29babf54b": {
          "model_module": "@jupyter-widgets/controls",
          "model_name": "DescriptionStyleModel",
          "model_module_version": "1.5.0",
          "state": {
            "_view_name": "StyleView",
            "_model_name": "DescriptionStyleModel",
            "description_width": "",
            "_view_module": "@jupyter-widgets/base",
            "_model_module_version": "1.5.0",
            "_view_count": null,
            "_view_module_version": "1.2.0",
            "_model_module": "@jupyter-widgets/controls"
          }
        },
        "661e29db09b3458a906ffc834b00ae8e": {
          "model_module": "@jupyter-widgets/base",
          "model_name": "LayoutModel",
          "model_module_version": "1.2.0",
          "state": {
            "_view_name": "LayoutView",
            "grid_template_rows": null,
            "right": null,
            "justify_content": null,
            "_view_module": "@jupyter-widgets/base",
            "overflow": null,
            "_model_module_version": "1.2.0",
            "_view_count": null,
            "flex_flow": null,
            "width": null,
            "min_width": null,
            "border": null,
            "align_items": null,
            "bottom": null,
            "_model_module": "@jupyter-widgets/base",
            "top": null,
            "grid_column": null,
            "overflow_y": null,
            "overflow_x": null,
            "grid_auto_flow": null,
            "grid_area": null,
            "grid_template_columns": null,
            "flex": null,
            "_model_name": "LayoutModel",
            "justify_items": null,
            "grid_row": null,
            "max_height": null,
            "align_content": null,
            "visibility": null,
            "align_self": null,
            "height": null,
            "min_height": null,
            "padding": null,
            "grid_auto_rows": null,
            "grid_gap": null,
            "max_width": null,
            "order": null,
            "_view_module_version": "1.2.0",
            "grid_template_areas": null,
            "object_position": null,
            "object_fit": null,
            "grid_auto_columns": null,
            "margin": null,
            "display": null,
            "left": null
          }
        },
        "a5349fa05b63487e85fd3ee47fa954c4": {
          "model_module": "@jupyter-widgets/controls",
          "model_name": "ProgressStyleModel",
          "model_module_version": "1.5.0",
          "state": {
            "_view_name": "StyleView",
            "_model_name": "ProgressStyleModel",
            "description_width": "",
            "_view_module": "@jupyter-widgets/base",
            "_model_module_version": "1.5.0",
            "_view_count": null,
            "_view_module_version": "1.2.0",
            "bar_color": null,
            "_model_module": "@jupyter-widgets/controls"
          }
        },
        "de21026de7c04203a7192472e86102d3": {
          "model_module": "@jupyter-widgets/base",
          "model_name": "LayoutModel",
          "model_module_version": "1.2.0",
          "state": {
            "_view_name": "LayoutView",
            "grid_template_rows": null,
            "right": null,
            "justify_content": null,
            "_view_module": "@jupyter-widgets/base",
            "overflow": null,
            "_model_module_version": "1.2.0",
            "_view_count": null,
            "flex_flow": null,
            "width": null,
            "min_width": null,
            "border": null,
            "align_items": null,
            "bottom": null,
            "_model_module": "@jupyter-widgets/base",
            "top": null,
            "grid_column": null,
            "overflow_y": null,
            "overflow_x": null,
            "grid_auto_flow": null,
            "grid_area": null,
            "grid_template_columns": null,
            "flex": "2",
            "_model_name": "LayoutModel",
            "justify_items": null,
            "grid_row": null,
            "max_height": null,
            "align_content": null,
            "visibility": null,
            "align_self": null,
            "height": null,
            "min_height": null,
            "padding": null,
            "grid_auto_rows": null,
            "grid_gap": null,
            "max_width": null,
            "order": null,
            "_view_module_version": "1.2.0",
            "grid_template_areas": null,
            "object_position": null,
            "object_fit": null,
            "grid_auto_columns": null,
            "margin": null,
            "display": null,
            "left": null
          }
        },
        "c35d928242dd48d69b0cecb7596a2755": {
          "model_module": "@jupyter-widgets/controls",
          "model_name": "DescriptionStyleModel",
          "model_module_version": "1.5.0",
          "state": {
            "_view_name": "StyleView",
            "_model_name": "DescriptionStyleModel",
            "description_width": "",
            "_view_module": "@jupyter-widgets/base",
            "_model_module_version": "1.5.0",
            "_view_count": null,
            "_view_module_version": "1.2.0",
            "_model_module": "@jupyter-widgets/controls"
          }
        },
        "d4d098de6ec44b73be8574dc4143d149": {
          "model_module": "@jupyter-widgets/base",
          "model_name": "LayoutModel",
          "model_module_version": "1.2.0",
          "state": {
            "_view_name": "LayoutView",
            "grid_template_rows": null,
            "right": null,
            "justify_content": null,
            "_view_module": "@jupyter-widgets/base",
            "overflow": null,
            "_model_module_version": "1.2.0",
            "_view_count": null,
            "flex_flow": null,
            "width": null,
            "min_width": null,
            "border": null,
            "align_items": null,
            "bottom": null,
            "_model_module": "@jupyter-widgets/base",
            "top": null,
            "grid_column": null,
            "overflow_y": null,
            "overflow_x": null,
            "grid_auto_flow": null,
            "grid_area": null,
            "grid_template_columns": null,
            "flex": null,
            "_model_name": "LayoutModel",
            "justify_items": null,
            "grid_row": null,
            "max_height": null,
            "align_content": null,
            "visibility": null,
            "align_self": null,
            "height": null,
            "min_height": null,
            "padding": null,
            "grid_auto_rows": null,
            "grid_gap": null,
            "max_width": null,
            "order": null,
            "_view_module_version": "1.2.0",
            "grid_template_areas": null,
            "object_position": null,
            "object_fit": null,
            "grid_auto_columns": null,
            "margin": null,
            "display": null,
            "left": null
          }
        }
      }
    },
    "accelerator": "GPU"
  },
  "cells": [
    {
      "cell_type": "markdown",
      "metadata": {
        "id": "BiE4HQuXA1jb"
      },
      "source": [
        "# **1-Import libaray**"
      ]
    },
    {
      "cell_type": "code",
      "metadata": {
        "id": "CYcSX5ofA8Yz"
      },
      "source": [
        "import numpy as np \n",
        "import pandas as pd \n",
        "import seaborn as sns \n",
        "import matplotlib.pyplot as plt\n",
        "from prettytable import PrettyTable\n",
        "from sklearn.metrics import roc_curve, auc\n",
        "from mlxtend.plotting import plot_confusion_matrix \n",
        "from sklearn.model_selection import train_test_split\n",
        "from sklearn.metrics import classification_report, confusion_matrix\n",
        "from sklearn.tree import DecisionTreeClassifier\n",
        "from sklearn.ensemble import RandomForestClassifier\n",
        "from sklearn.svm import LinearSVC\n",
        "from sklearn.linear_model import LogisticRegression\n",
        "from sklearn.neighbors import KNeighborsClassifier\n",
        "import warnings\n",
        "warnings.filterwarnings(\"ignore\")"
      ],
      "execution_count": 1,
      "outputs": []
    },
    {
      "cell_type": "markdown",
      "metadata": {
        "id": "-dEH-aOwYdNx"
      },
      "source": [
        "# **Introduction**"
      ]
    },
    {
      "cell_type": "markdown",
      "metadata": {
        "id": "69-GFSEUYpQA"
      },
      "source": [
        "# **2- Data Loading**"
      ]
    },
    {
      "cell_type": "markdown",
      "metadata": {
        "id": "ucwJyax-cZmZ"
      },
      "source": [
        "**Load data from google drive** "
      ]
    },
    {
      "cell_type": "code",
      "metadata": {
        "colab": {
          "base_uri": "https://localhost:8080/"
        },
        "id": "fYNNsGgxmxyQ",
        "outputId": "dbddbbdc-36ff-4fa3-e450-e4ea288d1d22"
      },
      "source": [
        "from google.colab import drive\n",
        "drive.mount('/content/drive')"
      ],
      "execution_count": 2,
      "outputs": [
        {
          "output_type": "stream",
          "name": "stdout",
          "text": [
            "Mounted at /content/drive\n"
          ]
        }
      ]
    },
    {
      "cell_type": "code",
      "metadata": {
        "id": "bkoAdyxInLR4"
      },
      "source": [
        "import pandas as pd\n",
        "import numpy as np\n",
        "data = pd.read_csv(\"/content/drive/MyDrive/Datasets/Student field Recommendation /Placement_Data_Full_Class.csv\")"
      ],
      "execution_count": 28,
      "outputs": []
    },
    {
      "cell_type": "code",
      "metadata": {
        "id": "OE_f4-bToHWA"
      },
      "source": [
        "data.head()"
      ],
      "execution_count": null,
      "outputs": []
    },
    {
      "cell_type": "code",
      "metadata": {
        "id": "H7bwIxq5rc9x",
        "colab": {
          "base_uri": "https://localhost:8080/"
        },
        "outputId": "70a17b18-303b-41fe-e334-cf28f92d1c5f"
      },
      "source": [
        "data.size"
      ],
      "execution_count": null,
      "outputs": [
        {
          "output_type": "execute_result",
          "data": {
            "text/plain": [
              "3225"
            ]
          },
          "metadata": {
            "tags": []
          },
          "execution_count": 5
        }
      ]
    },
    {
      "cell_type": "markdown",
      "metadata": {
        "id": "Y7r4GCZ_r578"
      },
      "source": [
        "# **3-Preprocessing**"
      ]
    },
    {
      "cell_type": "markdown",
      "metadata": {
        "id": "QpWXxSYL5nAY"
      },
      "source": [
        "**3.1 Creating Category of Mark Secured in Different Educational Phase**\n",
        "\n",
        "Here we will create 3 category:\n",
        "- 85% +\n",
        "- 60% - 85%\n",
        "- < 60%\n",
        "\n"
      ]
    },
    {
      "cell_type": "code",
      "metadata": {
        "id": "8Hi_smCr6BCj"
      },
      "source": [
        "def checkCateg(perct):\n",
        "    if(perct >= 85):\n",
        "        return '85% +'\n",
        "    elif(perct < 85 and perct >= 60):\n",
        "        return '60% - 85%'\n",
        "    else:\n",
        "        return '< 60%'"
      ],
      "execution_count": 29,
      "outputs": []
    },
    {
      "cell_type": "code",
      "metadata": {
        "id": "BWvSBTZ06DsY"
      },
      "source": [
        "data['ssc_p_catg'] = data['ssc_p'].apply(checkCateg)\n",
        "data['hsc_p_catg'] = data['hsc_p'].apply(checkCateg)\n",
        "data['mba_p_catg'] = data['mba_p'].apply(checkCateg)\n",
        "data['degree_p_catg'] = data['degree_p'].apply(checkCateg)\n",
        "data['etest_p_catg'] = data['etest_p'].apply(checkCateg)"
      ],
      "execution_count": 30,
      "outputs": []
    },
    {
      "cell_type": "code",
      "metadata": {
        "colab": {
          "base_uri": "https://localhost:8080/",
          "height": 473
        },
        "id": "bB7u_WQ0eFNR",
        "outputId": "7c73effc-a2ca-400f-b72c-80d508b29056"
      },
      "source": [
        "data"
      ],
      "execution_count": 31,
      "outputs": [
        {
          "output_type": "execute_result",
          "data": {
            "text/html": [
              "<div>\n",
              "<style scoped>\n",
              "    .dataframe tbody tr th:only-of-type {\n",
              "        vertical-align: middle;\n",
              "    }\n",
              "\n",
              "    .dataframe tbody tr th {\n",
              "        vertical-align: top;\n",
              "    }\n",
              "\n",
              "    .dataframe thead th {\n",
              "        text-align: right;\n",
              "    }\n",
              "</style>\n",
              "<table border=\"1\" class=\"dataframe\">\n",
              "  <thead>\n",
              "    <tr style=\"text-align: right;\">\n",
              "      <th></th>\n",
              "      <th>sl_no</th>\n",
              "      <th>gender</th>\n",
              "      <th>ssc_p</th>\n",
              "      <th>ssc_b</th>\n",
              "      <th>hsc_p</th>\n",
              "      <th>hsc_b</th>\n",
              "      <th>hsc_s</th>\n",
              "      <th>degree_p</th>\n",
              "      <th>degree_t</th>\n",
              "      <th>workex</th>\n",
              "      <th>etest_p</th>\n",
              "      <th>specialisation</th>\n",
              "      <th>mba_p</th>\n",
              "      <th>status</th>\n",
              "      <th>salary</th>\n",
              "      <th>ssc_p_catg</th>\n",
              "      <th>hsc_p_catg</th>\n",
              "      <th>mba_p_catg</th>\n",
              "      <th>degree_p_catg</th>\n",
              "      <th>etest_p_catg</th>\n",
              "    </tr>\n",
              "  </thead>\n",
              "  <tbody>\n",
              "    <tr>\n",
              "      <th>0</th>\n",
              "      <td>1</td>\n",
              "      <td>M</td>\n",
              "      <td>67.00</td>\n",
              "      <td>Others</td>\n",
              "      <td>91.00</td>\n",
              "      <td>Others</td>\n",
              "      <td>Commerce</td>\n",
              "      <td>58.00</td>\n",
              "      <td>Sci&amp;Tech</td>\n",
              "      <td>No</td>\n",
              "      <td>55.0</td>\n",
              "      <td>Mkt&amp;HR</td>\n",
              "      <td>58.80</td>\n",
              "      <td>Placed</td>\n",
              "      <td>270000.0</td>\n",
              "      <td>60% - 85%</td>\n",
              "      <td>85% +</td>\n",
              "      <td>&lt; 60%</td>\n",
              "      <td>&lt; 60%</td>\n",
              "      <td>&lt; 60%</td>\n",
              "    </tr>\n",
              "    <tr>\n",
              "      <th>1</th>\n",
              "      <td>2</td>\n",
              "      <td>M</td>\n",
              "      <td>79.33</td>\n",
              "      <td>Central</td>\n",
              "      <td>78.33</td>\n",
              "      <td>Others</td>\n",
              "      <td>Science</td>\n",
              "      <td>77.48</td>\n",
              "      <td>Sci&amp;Tech</td>\n",
              "      <td>Yes</td>\n",
              "      <td>86.5</td>\n",
              "      <td>Mkt&amp;Fin</td>\n",
              "      <td>66.28</td>\n",
              "      <td>Placed</td>\n",
              "      <td>200000.0</td>\n",
              "      <td>60% - 85%</td>\n",
              "      <td>60% - 85%</td>\n",
              "      <td>60% - 85%</td>\n",
              "      <td>60% - 85%</td>\n",
              "      <td>85% +</td>\n",
              "    </tr>\n",
              "    <tr>\n",
              "      <th>2</th>\n",
              "      <td>3</td>\n",
              "      <td>M</td>\n",
              "      <td>65.00</td>\n",
              "      <td>Central</td>\n",
              "      <td>68.00</td>\n",
              "      <td>Central</td>\n",
              "      <td>Arts</td>\n",
              "      <td>64.00</td>\n",
              "      <td>Comm&amp;Mgmt</td>\n",
              "      <td>No</td>\n",
              "      <td>75.0</td>\n",
              "      <td>Mkt&amp;Fin</td>\n",
              "      <td>57.80</td>\n",
              "      <td>Placed</td>\n",
              "      <td>250000.0</td>\n",
              "      <td>60% - 85%</td>\n",
              "      <td>60% - 85%</td>\n",
              "      <td>&lt; 60%</td>\n",
              "      <td>60% - 85%</td>\n",
              "      <td>60% - 85%</td>\n",
              "    </tr>\n",
              "    <tr>\n",
              "      <th>3</th>\n",
              "      <td>4</td>\n",
              "      <td>M</td>\n",
              "      <td>56.00</td>\n",
              "      <td>Central</td>\n",
              "      <td>52.00</td>\n",
              "      <td>Central</td>\n",
              "      <td>Science</td>\n",
              "      <td>52.00</td>\n",
              "      <td>Sci&amp;Tech</td>\n",
              "      <td>No</td>\n",
              "      <td>66.0</td>\n",
              "      <td>Mkt&amp;HR</td>\n",
              "      <td>59.43</td>\n",
              "      <td>Not Placed</td>\n",
              "      <td>NaN</td>\n",
              "      <td>&lt; 60%</td>\n",
              "      <td>&lt; 60%</td>\n",
              "      <td>&lt; 60%</td>\n",
              "      <td>&lt; 60%</td>\n",
              "      <td>60% - 85%</td>\n",
              "    </tr>\n",
              "    <tr>\n",
              "      <th>4</th>\n",
              "      <td>5</td>\n",
              "      <td>M</td>\n",
              "      <td>85.80</td>\n",
              "      <td>Central</td>\n",
              "      <td>73.60</td>\n",
              "      <td>Central</td>\n",
              "      <td>Commerce</td>\n",
              "      <td>73.30</td>\n",
              "      <td>Comm&amp;Mgmt</td>\n",
              "      <td>No</td>\n",
              "      <td>96.8</td>\n",
              "      <td>Mkt&amp;Fin</td>\n",
              "      <td>55.50</td>\n",
              "      <td>Placed</td>\n",
              "      <td>425000.0</td>\n",
              "      <td>85% +</td>\n",
              "      <td>60% - 85%</td>\n",
              "      <td>&lt; 60%</td>\n",
              "      <td>60% - 85%</td>\n",
              "      <td>85% +</td>\n",
              "    </tr>\n",
              "    <tr>\n",
              "      <th>...</th>\n",
              "      <td>...</td>\n",
              "      <td>...</td>\n",
              "      <td>...</td>\n",
              "      <td>...</td>\n",
              "      <td>...</td>\n",
              "      <td>...</td>\n",
              "      <td>...</td>\n",
              "      <td>...</td>\n",
              "      <td>...</td>\n",
              "      <td>...</td>\n",
              "      <td>...</td>\n",
              "      <td>...</td>\n",
              "      <td>...</td>\n",
              "      <td>...</td>\n",
              "      <td>...</td>\n",
              "      <td>...</td>\n",
              "      <td>...</td>\n",
              "      <td>...</td>\n",
              "      <td>...</td>\n",
              "      <td>...</td>\n",
              "    </tr>\n",
              "    <tr>\n",
              "      <th>210</th>\n",
              "      <td>211</td>\n",
              "      <td>M</td>\n",
              "      <td>80.60</td>\n",
              "      <td>Others</td>\n",
              "      <td>82.00</td>\n",
              "      <td>Others</td>\n",
              "      <td>Commerce</td>\n",
              "      <td>77.60</td>\n",
              "      <td>Comm&amp;Mgmt</td>\n",
              "      <td>No</td>\n",
              "      <td>91.0</td>\n",
              "      <td>Mkt&amp;Fin</td>\n",
              "      <td>74.49</td>\n",
              "      <td>Placed</td>\n",
              "      <td>400000.0</td>\n",
              "      <td>60% - 85%</td>\n",
              "      <td>60% - 85%</td>\n",
              "      <td>60% - 85%</td>\n",
              "      <td>60% - 85%</td>\n",
              "      <td>85% +</td>\n",
              "    </tr>\n",
              "    <tr>\n",
              "      <th>211</th>\n",
              "      <td>212</td>\n",
              "      <td>M</td>\n",
              "      <td>58.00</td>\n",
              "      <td>Others</td>\n",
              "      <td>60.00</td>\n",
              "      <td>Others</td>\n",
              "      <td>Science</td>\n",
              "      <td>72.00</td>\n",
              "      <td>Sci&amp;Tech</td>\n",
              "      <td>No</td>\n",
              "      <td>74.0</td>\n",
              "      <td>Mkt&amp;Fin</td>\n",
              "      <td>53.62</td>\n",
              "      <td>Placed</td>\n",
              "      <td>275000.0</td>\n",
              "      <td>&lt; 60%</td>\n",
              "      <td>60% - 85%</td>\n",
              "      <td>&lt; 60%</td>\n",
              "      <td>60% - 85%</td>\n",
              "      <td>60% - 85%</td>\n",
              "    </tr>\n",
              "    <tr>\n",
              "      <th>212</th>\n",
              "      <td>213</td>\n",
              "      <td>M</td>\n",
              "      <td>67.00</td>\n",
              "      <td>Others</td>\n",
              "      <td>67.00</td>\n",
              "      <td>Others</td>\n",
              "      <td>Commerce</td>\n",
              "      <td>73.00</td>\n",
              "      <td>Comm&amp;Mgmt</td>\n",
              "      <td>Yes</td>\n",
              "      <td>59.0</td>\n",
              "      <td>Mkt&amp;Fin</td>\n",
              "      <td>69.72</td>\n",
              "      <td>Placed</td>\n",
              "      <td>295000.0</td>\n",
              "      <td>60% - 85%</td>\n",
              "      <td>60% - 85%</td>\n",
              "      <td>60% - 85%</td>\n",
              "      <td>60% - 85%</td>\n",
              "      <td>&lt; 60%</td>\n",
              "    </tr>\n",
              "    <tr>\n",
              "      <th>213</th>\n",
              "      <td>214</td>\n",
              "      <td>F</td>\n",
              "      <td>74.00</td>\n",
              "      <td>Others</td>\n",
              "      <td>66.00</td>\n",
              "      <td>Others</td>\n",
              "      <td>Commerce</td>\n",
              "      <td>58.00</td>\n",
              "      <td>Comm&amp;Mgmt</td>\n",
              "      <td>No</td>\n",
              "      <td>70.0</td>\n",
              "      <td>Mkt&amp;HR</td>\n",
              "      <td>60.23</td>\n",
              "      <td>Placed</td>\n",
              "      <td>204000.0</td>\n",
              "      <td>60% - 85%</td>\n",
              "      <td>60% - 85%</td>\n",
              "      <td>60% - 85%</td>\n",
              "      <td>&lt; 60%</td>\n",
              "      <td>60% - 85%</td>\n",
              "    </tr>\n",
              "    <tr>\n",
              "      <th>214</th>\n",
              "      <td>215</td>\n",
              "      <td>M</td>\n",
              "      <td>62.00</td>\n",
              "      <td>Central</td>\n",
              "      <td>58.00</td>\n",
              "      <td>Others</td>\n",
              "      <td>Science</td>\n",
              "      <td>53.00</td>\n",
              "      <td>Comm&amp;Mgmt</td>\n",
              "      <td>No</td>\n",
              "      <td>89.0</td>\n",
              "      <td>Mkt&amp;HR</td>\n",
              "      <td>60.22</td>\n",
              "      <td>Not Placed</td>\n",
              "      <td>NaN</td>\n",
              "      <td>60% - 85%</td>\n",
              "      <td>&lt; 60%</td>\n",
              "      <td>60% - 85%</td>\n",
              "      <td>&lt; 60%</td>\n",
              "      <td>85% +</td>\n",
              "    </tr>\n",
              "  </tbody>\n",
              "</table>\n",
              "<p>215 rows × 20 columns</p>\n",
              "</div>"
            ],
            "text/plain": [
              "     sl_no gender  ssc_p  ... mba_p_catg  degree_p_catg etest_p_catg\n",
              "0        1      M  67.00  ...      < 60%          < 60%        < 60%\n",
              "1        2      M  79.33  ...  60% - 85%      60% - 85%        85% +\n",
              "2        3      M  65.00  ...      < 60%      60% - 85%    60% - 85%\n",
              "3        4      M  56.00  ...      < 60%          < 60%    60% - 85%\n",
              "4        5      M  85.80  ...      < 60%      60% - 85%        85% +\n",
              "..     ...    ...    ...  ...        ...            ...          ...\n",
              "210    211      M  80.60  ...  60% - 85%      60% - 85%        85% +\n",
              "211    212      M  58.00  ...      < 60%      60% - 85%    60% - 85%\n",
              "212    213      M  67.00  ...  60% - 85%      60% - 85%        < 60%\n",
              "213    214      F  74.00  ...  60% - 85%          < 60%    60% - 85%\n",
              "214    215      M  62.00  ...  60% - 85%          < 60%        85% +\n",
              "\n",
              "[215 rows x 20 columns]"
            ]
          },
          "metadata": {},
          "execution_count": 31
        }
      ]
    },
    {
      "cell_type": "markdown",
      "metadata": {
        "id": "JL1FYrIa5kv8"
      },
      "source": [
        "**3.2 -Check Missing Value**\n"
      ]
    },
    {
      "cell_type": "code",
      "metadata": {
        "id": "_6sqt75_5o9y",
        "colab": {
          "base_uri": "https://localhost:8080/",
          "height": 173
        },
        "outputId": "986edd41-ada4-4319-b7c7-fda67483f302"
      },
      "source": [
        "total = data.isnull().sum().sort_values(ascending=False)\n",
        "percent = (data.isnull().sum()/data.isnull().count()).sort_values(ascending=False)\n",
        "missing = pd.concat([total, percent], axis=1, keys=['Total', 'Percent'])\n",
        "missing.head(4)"
      ],
      "execution_count": 9,
      "outputs": [
        {
          "output_type": "execute_result",
          "data": {
            "text/html": [
              "<div>\n",
              "<style scoped>\n",
              "    .dataframe tbody tr th:only-of-type {\n",
              "        vertical-align: middle;\n",
              "    }\n",
              "\n",
              "    .dataframe tbody tr th {\n",
              "        vertical-align: top;\n",
              "    }\n",
              "\n",
              "    .dataframe thead th {\n",
              "        text-align: right;\n",
              "    }\n",
              "</style>\n",
              "<table border=\"1\" class=\"dataframe\">\n",
              "  <thead>\n",
              "    <tr style=\"text-align: right;\">\n",
              "      <th></th>\n",
              "      <th>Total</th>\n",
              "      <th>Percent</th>\n",
              "    </tr>\n",
              "  </thead>\n",
              "  <tbody>\n",
              "    <tr>\n",
              "      <th>salary</th>\n",
              "      <td>67</td>\n",
              "      <td>0.311628</td>\n",
              "    </tr>\n",
              "    <tr>\n",
              "      <th>etest_p_catg</th>\n",
              "      <td>0</td>\n",
              "      <td>0.000000</td>\n",
              "    </tr>\n",
              "    <tr>\n",
              "      <th>degree_t</th>\n",
              "      <td>0</td>\n",
              "      <td>0.000000</td>\n",
              "    </tr>\n",
              "    <tr>\n",
              "      <th>gender</th>\n",
              "      <td>0</td>\n",
              "      <td>0.000000</td>\n",
              "    </tr>\n",
              "  </tbody>\n",
              "</table>\n",
              "</div>"
            ],
            "text/plain": [
              "              Total   Percent\n",
              "salary           67  0.311628\n",
              "etest_p_catg      0  0.000000\n",
              "degree_t          0  0.000000\n",
              "gender            0  0.000000"
            ]
          },
          "metadata": {},
          "execution_count": 9
        }
      ]
    },
    {
      "cell_type": "code",
      "metadata": {
        "id": "W2c66GfvuVn7"
      },
      "source": [
        "data = data.dropna(axis = 0, how ='any') "
      ],
      "execution_count": 10,
      "outputs": []
    },
    {
      "cell_type": "code",
      "metadata": {
        "id": "mc-3l3i81BWI"
      },
      "source": [
        "np.sum(data.isnull().any(axis=1))"
      ],
      "execution_count": null,
      "outputs": []
    },
    {
      "cell_type": "markdown",
      "metadata": {
        "id": "tnvVuWKg6vj1"
      },
      "source": [
        "**3.3-Hot Encoding**"
      ]
    },
    {
      "cell_type": "code",
      "metadata": {
        "colab": {
          "base_uri": "https://localhost:8080/"
        },
        "id": "2Fa0DkFL6yEq",
        "outputId": "51a4ba2d-864d-45e4-b233-11a5558e0ea1"
      },
      "source": [
        "data.select_dtypes(include=['object']).columns"
      ],
      "execution_count": 46,
      "outputs": [
        {
          "output_type": "execute_result",
          "data": {
            "text/plain": [
              "Index([], dtype='object')"
            ]
          },
          "metadata": {},
          "execution_count": 46
        }
      ]
    },
    {
      "cell_type": "code",
      "metadata": {
        "id": "7g24nkqr7Qx8"
      },
      "source": [
        "data['gender'] = data['gender'].fillna(data['gender'].mode()[0])\n",
        "data['ssc_b'] = data['ssc_b'].fillna(data['ssc_b'].mode()[0])\n",
        "data['hsc_b'] = data['hsc_b'].fillna(data['hsc_b'].mode()[0])\n",
        "data['hsc_s'] = data['hsc_s'].fillna(data['hsc_s'].mode()[0])\n",
        "data['degree_t'] = data['degree_t'].fillna(data['degree_t'].mode()[0])\n",
        "data['workex'] = data['workex'].fillna(data['workex'].mode()[0])\n",
        "data['specialisation'] = data['specialisation'].fillna(data['specialisation'].mode()[0])\n",
        "data['status'] = data['status'].fillna(data['status'].mode()[0])\n",
        "data['ssc_p_catg'] = data['ssc_p_catg'].fillna(data['ssc_p_catg'].mode()[0])\n",
        "data['hsc_p_catg'] = data['hsc_p_catg'].fillna(data['hsc_p_catg'].mode()[0])\n",
        "data['mba_p_catg'] = data['mba_p_catg'].fillna(data['mba_p_catg'].mode()[0])\n",
        "data['degree_p_catg'] = data['degree_p_catg'].fillna(data['degree_p_catg'].mode()[0])\n",
        "data['etest_p_catg'] = data['etest_p_catg'].fillna(data['etest_p_catg'].mode()[0])\n",
        "\n",
        "\n",
        "\n",
        "\n",
        "\n"
      ],
      "execution_count": 47,
      "outputs": []
    },
    {
      "cell_type": "code",
      "metadata": {
        "id": "fLaZar8T-YkY"
      },
      "source": [
        "from sklearn.preprocessing import LabelEncoder\n",
        "lencoders = {}\n",
        "for col in data.select_dtypes(include=['object']).columns:\n",
        "    lencoders[col] = LabelEncoder()\n",
        "    data[col] = lencoders[col].fit_transform(data[col])"
      ],
      "execution_count": 48,
      "outputs": []
    },
    {
      "cell_type": "code",
      "metadata": {
        "id": "w5GR2wIi-k--",
        "colab": {
          "base_uri": "https://localhost:8080/",
          "height": 439
        },
        "outputId": "90406c29-8c36-4fda-fc56-96e7d6f080eb"
      },
      "source": [
        "data"
      ],
      "execution_count": 35,
      "outputs": [
        {
          "output_type": "execute_result",
          "data": {
            "text/html": [
              "<div>\n",
              "<style scoped>\n",
              "    .dataframe tbody tr th:only-of-type {\n",
              "        vertical-align: middle;\n",
              "    }\n",
              "\n",
              "    .dataframe tbody tr th {\n",
              "        vertical-align: top;\n",
              "    }\n",
              "\n",
              "    .dataframe thead th {\n",
              "        text-align: right;\n",
              "    }\n",
              "</style>\n",
              "<table border=\"1\" class=\"dataframe\">\n",
              "  <thead>\n",
              "    <tr style=\"text-align: right;\">\n",
              "      <th></th>\n",
              "      <th>sl_no</th>\n",
              "      <th>gender</th>\n",
              "      <th>ssc_p</th>\n",
              "      <th>ssc_b</th>\n",
              "      <th>hsc_p</th>\n",
              "      <th>hsc_b</th>\n",
              "      <th>hsc_s</th>\n",
              "      <th>degree_p</th>\n",
              "      <th>degree_t</th>\n",
              "      <th>workex</th>\n",
              "      <th>etest_p</th>\n",
              "      <th>specialisation</th>\n",
              "      <th>mba_p</th>\n",
              "      <th>status</th>\n",
              "      <th>salary</th>\n",
              "      <th>ssc_p_catg</th>\n",
              "      <th>hsc_p_catg</th>\n",
              "      <th>mba_p_catg</th>\n",
              "      <th>degree_p_catg</th>\n",
              "      <th>etest_p_catg</th>\n",
              "    </tr>\n",
              "  </thead>\n",
              "  <tbody>\n",
              "    <tr>\n",
              "      <th>0</th>\n",
              "      <td>1</td>\n",
              "      <td>1</td>\n",
              "      <td>67.00</td>\n",
              "      <td>1</td>\n",
              "      <td>91.00</td>\n",
              "      <td>1</td>\n",
              "      <td>1</td>\n",
              "      <td>58.00</td>\n",
              "      <td>2</td>\n",
              "      <td>0</td>\n",
              "      <td>55.0</td>\n",
              "      <td>1</td>\n",
              "      <td>58.80</td>\n",
              "      <td>1</td>\n",
              "      <td>270000.0</td>\n",
              "      <td>0</td>\n",
              "      <td>1</td>\n",
              "      <td>1</td>\n",
              "      <td>2</td>\n",
              "      <td>2</td>\n",
              "    </tr>\n",
              "    <tr>\n",
              "      <th>1</th>\n",
              "      <td>2</td>\n",
              "      <td>1</td>\n",
              "      <td>79.33</td>\n",
              "      <td>0</td>\n",
              "      <td>78.33</td>\n",
              "      <td>1</td>\n",
              "      <td>2</td>\n",
              "      <td>77.48</td>\n",
              "      <td>2</td>\n",
              "      <td>1</td>\n",
              "      <td>86.5</td>\n",
              "      <td>0</td>\n",
              "      <td>66.28</td>\n",
              "      <td>1</td>\n",
              "      <td>200000.0</td>\n",
              "      <td>0</td>\n",
              "      <td>0</td>\n",
              "      <td>0</td>\n",
              "      <td>0</td>\n",
              "      <td>1</td>\n",
              "    </tr>\n",
              "    <tr>\n",
              "      <th>2</th>\n",
              "      <td>3</td>\n",
              "      <td>1</td>\n",
              "      <td>65.00</td>\n",
              "      <td>0</td>\n",
              "      <td>68.00</td>\n",
              "      <td>0</td>\n",
              "      <td>0</td>\n",
              "      <td>64.00</td>\n",
              "      <td>0</td>\n",
              "      <td>0</td>\n",
              "      <td>75.0</td>\n",
              "      <td>0</td>\n",
              "      <td>57.80</td>\n",
              "      <td>1</td>\n",
              "      <td>250000.0</td>\n",
              "      <td>0</td>\n",
              "      <td>0</td>\n",
              "      <td>1</td>\n",
              "      <td>0</td>\n",
              "      <td>0</td>\n",
              "    </tr>\n",
              "    <tr>\n",
              "      <th>3</th>\n",
              "      <td>4</td>\n",
              "      <td>1</td>\n",
              "      <td>56.00</td>\n",
              "      <td>0</td>\n",
              "      <td>52.00</td>\n",
              "      <td>0</td>\n",
              "      <td>2</td>\n",
              "      <td>52.00</td>\n",
              "      <td>2</td>\n",
              "      <td>0</td>\n",
              "      <td>66.0</td>\n",
              "      <td>1</td>\n",
              "      <td>59.43</td>\n",
              "      <td>0</td>\n",
              "      <td>NaN</td>\n",
              "      <td>2</td>\n",
              "      <td>2</td>\n",
              "      <td>1</td>\n",
              "      <td>2</td>\n",
              "      <td>0</td>\n",
              "    </tr>\n",
              "    <tr>\n",
              "      <th>4</th>\n",
              "      <td>5</td>\n",
              "      <td>1</td>\n",
              "      <td>85.80</td>\n",
              "      <td>0</td>\n",
              "      <td>73.60</td>\n",
              "      <td>0</td>\n",
              "      <td>1</td>\n",
              "      <td>73.30</td>\n",
              "      <td>0</td>\n",
              "      <td>0</td>\n",
              "      <td>96.8</td>\n",
              "      <td>0</td>\n",
              "      <td>55.50</td>\n",
              "      <td>1</td>\n",
              "      <td>425000.0</td>\n",
              "      <td>1</td>\n",
              "      <td>0</td>\n",
              "      <td>1</td>\n",
              "      <td>0</td>\n",
              "      <td>1</td>\n",
              "    </tr>\n",
              "    <tr>\n",
              "      <th>...</th>\n",
              "      <td>...</td>\n",
              "      <td>...</td>\n",
              "      <td>...</td>\n",
              "      <td>...</td>\n",
              "      <td>...</td>\n",
              "      <td>...</td>\n",
              "      <td>...</td>\n",
              "      <td>...</td>\n",
              "      <td>...</td>\n",
              "      <td>...</td>\n",
              "      <td>...</td>\n",
              "      <td>...</td>\n",
              "      <td>...</td>\n",
              "      <td>...</td>\n",
              "      <td>...</td>\n",
              "      <td>...</td>\n",
              "      <td>...</td>\n",
              "      <td>...</td>\n",
              "      <td>...</td>\n",
              "      <td>...</td>\n",
              "    </tr>\n",
              "    <tr>\n",
              "      <th>210</th>\n",
              "      <td>211</td>\n",
              "      <td>1</td>\n",
              "      <td>80.60</td>\n",
              "      <td>1</td>\n",
              "      <td>82.00</td>\n",
              "      <td>1</td>\n",
              "      <td>1</td>\n",
              "      <td>77.60</td>\n",
              "      <td>0</td>\n",
              "      <td>0</td>\n",
              "      <td>91.0</td>\n",
              "      <td>0</td>\n",
              "      <td>74.49</td>\n",
              "      <td>1</td>\n",
              "      <td>400000.0</td>\n",
              "      <td>0</td>\n",
              "      <td>0</td>\n",
              "      <td>0</td>\n",
              "      <td>0</td>\n",
              "      <td>1</td>\n",
              "    </tr>\n",
              "    <tr>\n",
              "      <th>211</th>\n",
              "      <td>212</td>\n",
              "      <td>1</td>\n",
              "      <td>58.00</td>\n",
              "      <td>1</td>\n",
              "      <td>60.00</td>\n",
              "      <td>1</td>\n",
              "      <td>2</td>\n",
              "      <td>72.00</td>\n",
              "      <td>2</td>\n",
              "      <td>0</td>\n",
              "      <td>74.0</td>\n",
              "      <td>0</td>\n",
              "      <td>53.62</td>\n",
              "      <td>1</td>\n",
              "      <td>275000.0</td>\n",
              "      <td>2</td>\n",
              "      <td>0</td>\n",
              "      <td>1</td>\n",
              "      <td>0</td>\n",
              "      <td>0</td>\n",
              "    </tr>\n",
              "    <tr>\n",
              "      <th>212</th>\n",
              "      <td>213</td>\n",
              "      <td>1</td>\n",
              "      <td>67.00</td>\n",
              "      <td>1</td>\n",
              "      <td>67.00</td>\n",
              "      <td>1</td>\n",
              "      <td>1</td>\n",
              "      <td>73.00</td>\n",
              "      <td>0</td>\n",
              "      <td>1</td>\n",
              "      <td>59.0</td>\n",
              "      <td>0</td>\n",
              "      <td>69.72</td>\n",
              "      <td>1</td>\n",
              "      <td>295000.0</td>\n",
              "      <td>0</td>\n",
              "      <td>0</td>\n",
              "      <td>0</td>\n",
              "      <td>0</td>\n",
              "      <td>2</td>\n",
              "    </tr>\n",
              "    <tr>\n",
              "      <th>213</th>\n",
              "      <td>214</td>\n",
              "      <td>0</td>\n",
              "      <td>74.00</td>\n",
              "      <td>1</td>\n",
              "      <td>66.00</td>\n",
              "      <td>1</td>\n",
              "      <td>1</td>\n",
              "      <td>58.00</td>\n",
              "      <td>0</td>\n",
              "      <td>0</td>\n",
              "      <td>70.0</td>\n",
              "      <td>1</td>\n",
              "      <td>60.23</td>\n",
              "      <td>1</td>\n",
              "      <td>204000.0</td>\n",
              "      <td>0</td>\n",
              "      <td>0</td>\n",
              "      <td>0</td>\n",
              "      <td>2</td>\n",
              "      <td>0</td>\n",
              "    </tr>\n",
              "    <tr>\n",
              "      <th>214</th>\n",
              "      <td>215</td>\n",
              "      <td>1</td>\n",
              "      <td>62.00</td>\n",
              "      <td>0</td>\n",
              "      <td>58.00</td>\n",
              "      <td>1</td>\n",
              "      <td>2</td>\n",
              "      <td>53.00</td>\n",
              "      <td>0</td>\n",
              "      <td>0</td>\n",
              "      <td>89.0</td>\n",
              "      <td>1</td>\n",
              "      <td>60.22</td>\n",
              "      <td>0</td>\n",
              "      <td>NaN</td>\n",
              "      <td>0</td>\n",
              "      <td>2</td>\n",
              "      <td>0</td>\n",
              "      <td>2</td>\n",
              "      <td>1</td>\n",
              "    </tr>\n",
              "  </tbody>\n",
              "</table>\n",
              "<p>215 rows × 20 columns</p>\n",
              "</div>"
            ],
            "text/plain": [
              "     sl_no  gender  ssc_p  ...  mba_p_catg  degree_p_catg  etest_p_catg\n",
              "0        1       1  67.00  ...           1              2             2\n",
              "1        2       1  79.33  ...           0              0             1\n",
              "2        3       1  65.00  ...           1              0             0\n",
              "3        4       1  56.00  ...           1              2             0\n",
              "4        5       1  85.80  ...           1              0             1\n",
              "..     ...     ...    ...  ...         ...            ...           ...\n",
              "210    211       1  80.60  ...           0              0             1\n",
              "211    212       1  58.00  ...           1              0             0\n",
              "212    213       1  67.00  ...           0              0             2\n",
              "213    214       0  74.00  ...           0              2             0\n",
              "214    215       1  62.00  ...           0              2             1\n",
              "\n",
              "[215 rows x 20 columns]"
            ]
          },
          "metadata": {},
          "execution_count": 35
        }
      ]
    },
    {
      "cell_type": "markdown",
      "metadata": {
        "id": "1X3_s7X8_hEc"
      },
      "source": [
        "**3.4-Feature Scaling**"
      ]
    },
    {
      "cell_type": "code",
      "metadata": {
        "id": "iQgnWr7Q_jey"
      },
      "source": [
        "# Standardizing data\n",
        "from sklearn import preprocessing\n",
        "r_scaler = preprocessing.MinMaxScaler()\n",
        "r_scaler.fit(data)\n",
        "data = pd.DataFrame(r_scaler.transform(data), index=data.index, columns=data.columns)"
      ],
      "execution_count": 49,
      "outputs": []
    },
    {
      "cell_type": "markdown",
      "metadata": {
        "id": "2m6tWQEIAQfb"
      },
      "source": [
        "**3.5-Data spliting**\n"
      ]
    },
    {
      "cell_type": "code",
      "metadata": {
        "id": "j9t6Ik9SAUPX"
      },
      "source": [
        "X=data.drop('specialisation',axis=1)\n"
      ],
      "execution_count": 50,
      "outputs": []
    },
    {
      "cell_type": "code",
      "metadata": {
        "id": "f52X64tDAYXY"
      },
      "source": [
        "y=data[['specialisation']]\n"
      ],
      "execution_count": 51,
      "outputs": []
    },
    {
      "cell_type": "code",
      "metadata": {
        "id": "5-S8fYFyApQB"
      },
      "source": [
        "X_train, X_test, y_train, y_test = train_test_split(X, y, test_size=0.30, random_state=100)\n"
      ],
      "execution_count": 52,
      "outputs": []
    },
    {
      "cell_type": "markdown",
      "metadata": {
        "id": "T8s8iuRUBMSs"
      },
      "source": [
        "# **Feature Selection**\n"
      ]
    },
    {
      "cell_type": "code",
      "metadata": {
        "id": "AuF21mEKBRHP"
      },
      "source": [
        "!pip install boruta\n"
      ],
      "execution_count": null,
      "outputs": []
    },
    {
      "cell_type": "code",
      "metadata": {
        "id": "AArQ4s_9BYw4"
      },
      "source": [
        "from boruta import BorutaPy\n",
        "from sklearn.ensemble import RandomForestRegressor\n",
        "import numpy as np"
      ],
      "execution_count": null,
      "outputs": []
    },
    {
      "cell_type": "code",
      "metadata": {
        "id": "4NzXHSmnBcJ5"
      },
      "source": [
        "forest = RandomForestRegressor(n_jobs=-1,max_depth=5)\n"
      ],
      "execution_count": null,
      "outputs": []
    },
    {
      "cell_type": "code",
      "metadata": {
        "id": "hLtZoXdGBdrf"
      },
      "source": [
        "boruta= BorutaPy(estimator= forest, n_estimators='auto',max_iter=100)\n",
        "boruta.fit(np.array(X),np.array(y) )"
      ],
      "execution_count": null,
      "outputs": []
    },
    {
      "cell_type": "code",
      "metadata": {
        "id": "xhgDN7poGscs"
      },
      "source": [
        "green_area= X.columns[boruta.support_].to_list()\n",
        "blue_area= X.columns[boruta.support_weak_].to_list()"
      ],
      "execution_count": null,
      "outputs": []
    },
    {
      "cell_type": "code",
      "metadata": {
        "id": "5doNExw6GuNu"
      },
      "source": [
        "print('Feature in green ara:',green_area)\n",
        "print('Feature in blue ara:',blue_area)"
      ],
      "execution_count": null,
      "outputs": []
    },
    {
      "cell_type": "code",
      "metadata": {
        "id": "KN6Q8BzIIAI4"
      },
      "source": [
        "#Calculating Features Importance\n",
        "def Calculating_Entropy(Labels):\n",
        "    Calculating_Entropy=0\n",
        "    labelCounts = Counter(Labels)\n",
        "    for label in labelCounts:\n",
        "        probability_of_label = labelCounts[label] / len(Labels)\n",
        "        Calculating_Entropy -= probability_of_label * math.log2(probability_of_label)\n",
        "    return Calculating_Entropy"
      ],
      "execution_count": null,
      "outputs": []
    },
    {
      "cell_type": "code",
      "metadata": {
        "id": "nURu4Q2BIP-N"
      },
      "source": [
        "def Calculating_Information_Gain(str_labels, split_labels):\n",
        "    Calculating_Information_Gain = Calculating_Entropy(str_labels)\n",
        "    for branch_subset in split_labels:\n",
        "        Calculating_Information_Gain -= len(branch_subset) * Calculating_Entropy(branch_subset) / len(str_labels)\n",
        "    return Calculating_Information_Gain"
      ],
      "execution_count": null,
      "outputs": []
    },
    {
      "cell_type": "code",
      "metadata": {
        "id": "bEs8KQP-IZSD"
      },
      "source": [
        "def data_split_for_label(dataset, column):\n",
        "    data_split = []\n",
        "    col_vals = data[column].unique() \n",
        "    for col_val in col_vals:\n",
        "        data_split.append(dataset[dataset[column] == col_val])\n",
        "    return(data_split)"
      ],
      "execution_count": null,
      "outputs": []
    },
    {
      "cell_type": "code",
      "metadata": {
        "colab": {
          "base_uri": "https://localhost:8080/"
        },
        "id": "ZodBl72PIhkv",
        "outputId": "a720a8da-fc6b-477b-f200-b79d06771522"
      },
      "source": [
        "from collections import Counter\n",
        "import math\n",
        "IN_gain=[]\n",
        "Feature_Names=[]\n",
        "def Results_of_Information_Gain(dataset):\n",
        "    b_gain = 0\n",
        "    b_feature = 0\n",
        "    features = list(data.columns)\n",
        "    features.remove('specialisation')\n",
        "    for feature in features:\n",
        "        data_split = data_split_for_label(data, feature)\n",
        "        labels_split = [dataframe['specialisation'] for dataframe in data_split]\n",
        "        gain = Calculating_Information_Gain(dataset['specialisation'], labels_split)\n",
        "        print(' \\n')\n",
        "        print('-------------------------------------------------------------------------------------------------')\n",
        "        print('-------------------------------------------------------------------------------------------------')\n",
        "        print(feature)\n",
        "        print(gain)\n",
        "        IN_gain.append(gain)\n",
        "        Feature_Names.append(feature)\n",
        "        print('-------------------------------------------------------------------------------------------------')\n",
        "        print('-------------------------------------------------------------------------------------------------')\n",
        "        if gain > b_gain:\n",
        "            b_gain, b_feature = gain, feature\n",
        "    return b_feature, b_gain\n",
        "\n",
        "new_data = data_split_for_label(data, Results_of_Information_Gain(data)[0])"
      ],
      "execution_count": null,
      "outputs": [
        {
          "output_type": "stream",
          "text": [
            " \n",
            "\n",
            "-------------------------------------------------------------------------------------------------\n",
            "-------------------------------------------------------------------------------------------------\n",
            "sl_no\n",
            "0.9902246902198684\n",
            "-------------------------------------------------------------------------------------------------\n",
            "-------------------------------------------------------------------------------------------------\n",
            " \n",
            "\n",
            "-------------------------------------------------------------------------------------------------\n",
            "-------------------------------------------------------------------------------------------------\n",
            "gender\n",
            "0.008109850083307224\n",
            "-------------------------------------------------------------------------------------------------\n",
            "-------------------------------------------------------------------------------------------------\n",
            " \n",
            "\n",
            "-------------------------------------------------------------------------------------------------\n",
            "-------------------------------------------------------------------------------------------------\n",
            "ssc_p\n",
            "0.4554780702118586\n",
            "-------------------------------------------------------------------------------------------------\n",
            "-------------------------------------------------------------------------------------------------\n",
            " \n",
            "\n",
            "-------------------------------------------------------------------------------------------------\n",
            "-------------------------------------------------------------------------------------------------\n",
            "ssc_b\n",
            "0.0019201574053309134\n",
            "-------------------------------------------------------------------------------------------------\n",
            "-------------------------------------------------------------------------------------------------\n",
            " \n",
            "\n",
            "-------------------------------------------------------------------------------------------------\n",
            "-------------------------------------------------------------------------------------------------\n",
            "hsc_p\n",
            "0.4786646450114671\n",
            "-------------------------------------------------------------------------------------------------\n",
            "-------------------------------------------------------------------------------------------------\n",
            " \n",
            "\n",
            "-------------------------------------------------------------------------------------------------\n",
            "-------------------------------------------------------------------------------------------------\n",
            "hsc_b\n",
            "3.594210280954968e-06\n",
            "-------------------------------------------------------------------------------------------------\n",
            "-------------------------------------------------------------------------------------------------\n",
            " \n",
            "\n",
            "-------------------------------------------------------------------------------------------------\n",
            "-------------------------------------------------------------------------------------------------\n",
            "hsc_s\n",
            "0.02180103646566655\n",
            "-------------------------------------------------------------------------------------------------\n",
            "-------------------------------------------------------------------------------------------------\n",
            " \n",
            "\n",
            "-------------------------------------------------------------------------------------------------\n",
            "-------------------------------------------------------------------------------------------------\n",
            "degree_p\n",
            "0.4406386722509429\n",
            "-------------------------------------------------------------------------------------------------\n",
            "-------------------------------------------------------------------------------------------------\n",
            " \n",
            "\n",
            "-------------------------------------------------------------------------------------------------\n",
            "-------------------------------------------------------------------------------------------------\n",
            "degree_t\n",
            "0.010028663375975466\n",
            "-------------------------------------------------------------------------------------------------\n",
            "-------------------------------------------------------------------------------------------------\n",
            " \n",
            "\n",
            "-------------------------------------------------------------------------------------------------\n",
            "-------------------------------------------------------------------------------------------------\n",
            "workex\n",
            "0.02688569164603366\n",
            "-------------------------------------------------------------------------------------------------\n",
            "-------------------------------------------------------------------------------------------------\n",
            " \n",
            "\n",
            "-------------------------------------------------------------------------------------------------\n",
            "-------------------------------------------------------------------------------------------------\n",
            "etest_p\n",
            "0.4728096639148451\n",
            "-------------------------------------------------------------------------------------------------\n",
            "-------------------------------------------------------------------------------------------------\n",
            " \n",
            "\n",
            "-------------------------------------------------------------------------------------------------\n",
            "-------------------------------------------------------------------------------------------------\n",
            "mba_p\n",
            "0.9623177134756824\n",
            "-------------------------------------------------------------------------------------------------\n",
            "-------------------------------------------------------------------------------------------------\n",
            " \n",
            "\n",
            "-------------------------------------------------------------------------------------------------\n",
            "-------------------------------------------------------------------------------------------------\n",
            "status\n",
            "0.04540017631573051\n",
            "-------------------------------------------------------------------------------------------------\n",
            "-------------------------------------------------------------------------------------------------\n"
          ],
          "name": "stdout"
        }
      ]
    },
    {
      "cell_type": "code",
      "metadata": {
        "id": "OR8dMnV6JbLa"
      },
      "source": [
        "IG=pd.DataFrame()\n",
        "IG['Features Importance']=IN_gain\n",
        "IG['Features Importance']=round(IG['Features Importance'],2)\n",
        "IG['Feature']=Feature_Names\n",
        "IG=IG.sort_values(by=['Features Importance'], ascending=False)"
      ],
      "execution_count": null,
      "outputs": []
    },
    {
      "cell_type": "code",
      "metadata": {
        "id": "tnPHxyG6JhsS"
      },
      "source": [
        "Features_Group = IG[IG['Features Importance'] > 0.1] "
      ],
      "execution_count": null,
      "outputs": []
    },
    {
      "cell_type": "code",
      "metadata": {
        "colab": {
          "base_uri": "https://localhost:8080/"
        },
        "id": "aQ7O446MJlDt",
        "outputId": "2d55efcf-c17f-4af8-98d4-b46e6c59d3c3"
      },
      "source": [
        "print('Length of group features', len(Features_Group))"
      ],
      "execution_count": null,
      "outputs": [
        {
          "output_type": "stream",
          "text": [
            "Length of group features 6\n"
          ],
          "name": "stdout"
        }
      ]
    },
    {
      "cell_type": "code",
      "metadata": {
        "colab": {
          "base_uri": "https://localhost:8080/"
        },
        "id": "Pw9U1KRsJpA8",
        "outputId": "69ad0932-4034-4eae-9169-378c8f74ecdf"
      },
      "source": [
        "print('Selected Features in group:\\n\\n', Features_Group['Feature'])"
      ],
      "execution_count": null,
      "outputs": [
        {
          "output_type": "stream",
          "text": [
            "Selected Features in group:\n",
            "\n",
            " 0        sl_no\n",
            "11       mba_p\n",
            "4        hsc_p\n",
            "10     etest_p\n",
            "2        ssc_p\n",
            "7     degree_p\n",
            "Name: Feature, dtype: object\n"
          ],
          "name": "stdout"
        }
      ]
    },
    {
      "cell_type": "code",
      "metadata": {
        "id": "7tC4FVfnJzOo"
      },
      "source": [
        "Group_Features_Data=data[list(Features_Group['Feature'])]"
      ],
      "execution_count": null,
      "outputs": []
    },
    {
      "cell_type": "code",
      "metadata": {
        "colab": {
          "base_uri": "https://localhost:8080/",
          "height": 419
        },
        "id": "QW04AEBDJ3rK",
        "outputId": "7dea5f27-08e1-401c-e161-15736acb418d"
      },
      "source": [
        "Group_Features_Data"
      ],
      "execution_count": null,
      "outputs": [
        {
          "output_type": "execute_result",
          "data": {
            "text/html": [
              "<div>\n",
              "<style scoped>\n",
              "    .dataframe tbody tr th:only-of-type {\n",
              "        vertical-align: middle;\n",
              "    }\n",
              "\n",
              "    .dataframe tbody tr th {\n",
              "        vertical-align: top;\n",
              "    }\n",
              "\n",
              "    .dataframe thead th {\n",
              "        text-align: right;\n",
              "    }\n",
              "</style>\n",
              "<table border=\"1\" class=\"dataframe\">\n",
              "  <thead>\n",
              "    <tr style=\"text-align: right;\">\n",
              "      <th></th>\n",
              "      <th>sl_no</th>\n",
              "      <th>mba_p</th>\n",
              "      <th>hsc_p</th>\n",
              "      <th>etest_p</th>\n",
              "      <th>ssc_p</th>\n",
              "      <th>degree_p</th>\n",
              "    </tr>\n",
              "  </thead>\n",
              "  <tbody>\n",
              "    <tr>\n",
              "      <th>0</th>\n",
              "      <td>0.000000</td>\n",
              "      <td>0.284483</td>\n",
              "      <td>0.889621</td>\n",
              "      <td>0.104167</td>\n",
              "      <td>0.538240</td>\n",
              "      <td>0.195122</td>\n",
              "    </tr>\n",
              "    <tr>\n",
              "      <th>1</th>\n",
              "      <td>0.004673</td>\n",
              "      <td>0.564843</td>\n",
              "      <td>0.680890</td>\n",
              "      <td>0.760417</td>\n",
              "      <td>0.792414</td>\n",
              "      <td>0.670244</td>\n",
              "    </tr>\n",
              "    <tr>\n",
              "      <th>2</th>\n",
              "      <td>0.009346</td>\n",
              "      <td>0.247001</td>\n",
              "      <td>0.510708</td>\n",
              "      <td>0.520833</td>\n",
              "      <td>0.497011</td>\n",
              "      <td>0.341463</td>\n",
              "    </tr>\n",
              "    <tr>\n",
              "      <th>3</th>\n",
              "      <td>0.014019</td>\n",
              "      <td>0.308096</td>\n",
              "      <td>0.247117</td>\n",
              "      <td>0.333333</td>\n",
              "      <td>0.311482</td>\n",
              "      <td>0.048780</td>\n",
              "    </tr>\n",
              "    <tr>\n",
              "      <th>4</th>\n",
              "      <td>0.018692</td>\n",
              "      <td>0.160795</td>\n",
              "      <td>0.602965</td>\n",
              "      <td>0.975000</td>\n",
              "      <td>0.925788</td>\n",
              "      <td>0.568293</td>\n",
              "    </tr>\n",
              "    <tr>\n",
              "      <th>...</th>\n",
              "      <td>...</td>\n",
              "      <td>...</td>\n",
              "      <td>...</td>\n",
              "      <td>...</td>\n",
              "      <td>...</td>\n",
              "      <td>...</td>\n",
              "    </tr>\n",
              "    <tr>\n",
              "      <th>210</th>\n",
              "      <td>0.981308</td>\n",
              "      <td>0.872564</td>\n",
              "      <td>0.741351</td>\n",
              "      <td>0.854167</td>\n",
              "      <td>0.818594</td>\n",
              "      <td>0.673171</td>\n",
              "    </tr>\n",
              "    <tr>\n",
              "      <th>211</th>\n",
              "      <td>0.985981</td>\n",
              "      <td>0.090330</td>\n",
              "      <td>0.378913</td>\n",
              "      <td>0.500000</td>\n",
              "      <td>0.352711</td>\n",
              "      <td>0.536585</td>\n",
              "    </tr>\n",
              "    <tr>\n",
              "      <th>212</th>\n",
              "      <td>0.990654</td>\n",
              "      <td>0.693778</td>\n",
              "      <td>0.494234</td>\n",
              "      <td>0.187500</td>\n",
              "      <td>0.538240</td>\n",
              "      <td>0.560976</td>\n",
              "    </tr>\n",
              "    <tr>\n",
              "      <th>213</th>\n",
              "      <td>0.995327</td>\n",
              "      <td>0.338081</td>\n",
              "      <td>0.477759</td>\n",
              "      <td>0.416667</td>\n",
              "      <td>0.682540</td>\n",
              "      <td>0.195122</td>\n",
              "    </tr>\n",
              "    <tr>\n",
              "      <th>214</th>\n",
              "      <td>1.000000</td>\n",
              "      <td>0.337706</td>\n",
              "      <td>0.345964</td>\n",
              "      <td>0.812500</td>\n",
              "      <td>0.435168</td>\n",
              "      <td>0.073171</td>\n",
              "    </tr>\n",
              "  </tbody>\n",
              "</table>\n",
              "<p>215 rows × 6 columns</p>\n",
              "</div>"
            ],
            "text/plain": [
              "        sl_no     mba_p     hsc_p   etest_p     ssc_p  degree_p\n",
              "0    0.000000  0.284483  0.889621  0.104167  0.538240  0.195122\n",
              "1    0.004673  0.564843  0.680890  0.760417  0.792414  0.670244\n",
              "2    0.009346  0.247001  0.510708  0.520833  0.497011  0.341463\n",
              "3    0.014019  0.308096  0.247117  0.333333  0.311482  0.048780\n",
              "4    0.018692  0.160795  0.602965  0.975000  0.925788  0.568293\n",
              "..        ...       ...       ...       ...       ...       ...\n",
              "210  0.981308  0.872564  0.741351  0.854167  0.818594  0.673171\n",
              "211  0.985981  0.090330  0.378913  0.500000  0.352711  0.536585\n",
              "212  0.990654  0.693778  0.494234  0.187500  0.538240  0.560976\n",
              "213  0.995327  0.338081  0.477759  0.416667  0.682540  0.195122\n",
              "214  1.000000  0.337706  0.345964  0.812500  0.435168  0.073171\n",
              "\n",
              "[215 rows x 6 columns]"
            ]
          },
          "metadata": {
            "tags": []
          },
          "execution_count": 63
        }
      ]
    },
    {
      "cell_type": "markdown",
      "metadata": {
        "id": "_4iC56SZXwja"
      },
      "source": [
        "**ExtraTreesRegressor**"
      ]
    },
    {
      "cell_type": "code",
      "metadata": {
        "id": "QKHoAWHgW0UG"
      },
      "source": [
        "from sklearn.ensemble import ExtraTreesRegressor\n",
        "from sklearn.model_selection import train_test_split\n",
        "from sklearn.metrics import accuracy_score as acc"
      ],
      "execution_count": null,
      "outputs": []
    },
    {
      "cell_type": "code",
      "metadata": {
        "id": "1KIezkHaW6Y6"
      },
      "source": [
        "reg= ExtraTreesRegressor()\n"
      ],
      "execution_count": null,
      "outputs": []
    },
    {
      "cell_type": "code",
      "metadata": {
        "id": "-E-B9TwWW8jR",
        "colab": {
          "base_uri": "https://localhost:8080/"
        },
        "outputId": "3849f1a3-6feb-4b78-b393-267df63d8d4a"
      },
      "source": [
        "reg.fit(X_train,y_train)\n"
      ],
      "execution_count": null,
      "outputs": [
        {
          "output_type": "execute_result",
          "data": {
            "text/plain": [
              "ExtraTreesRegressor(bootstrap=False, ccp_alpha=0.0, criterion='mse',\n",
              "                    max_depth=None, max_features='auto', max_leaf_nodes=None,\n",
              "                    max_samples=None, min_impurity_decrease=0.0,\n",
              "                    min_impurity_split=None, min_samples_leaf=1,\n",
              "                    min_samples_split=2, min_weight_fraction_leaf=0.0,\n",
              "                    n_estimators=100, n_jobs=None, oob_score=False,\n",
              "                    random_state=None, verbose=0, warm_start=False)"
            ]
          },
          "metadata": {
            "tags": []
          },
          "execution_count": 65
        }
      ]
    },
    {
      "cell_type": "code",
      "metadata": {
        "colab": {
          "base_uri": "https://localhost:8080/"
        },
        "id": "Wy4rnbNwXXXc",
        "outputId": "9c3247ba-1772-410b-bcf6-86d9a37abf83"
      },
      "source": [
        "reg.feature_importances_\n"
      ],
      "execution_count": null,
      "outputs": [
        {
          "output_type": "execute_result",
          "data": {
            "text/plain": [
              "array([0.06998361, 0.02502103, 0.05537452, 0.07056676, 0.04918525,\n",
              "       0.06834832, 0.05082305, 0.08363027, 0.06373431, 0.04981079,\n",
              "       0.11755081, 0.05611157, 0.06050291, 0.03401852, 0.03000244,\n",
              "       0.03341113, 0.04932826, 0.03259643])"
            ]
          },
          "metadata": {
            "tags": []
          },
          "execution_count": 66
        }
      ]
    },
    {
      "cell_type": "code",
      "metadata": {
        "colab": {
          "base_uri": "https://localhost:8080/",
          "height": 265
        },
        "id": "XbN6iqbAXe0P",
        "outputId": "f6a7c08e-0363-4a53-a033-f1417992809d"
      },
      "source": [
        "feat_importances = pd.Series(reg.feature_importances_, index=X_train.columns)\n",
        "feat_importances.nlargest(5).plot(kind='barh')\n",
        "plt.show()"
      ],
      "execution_count": null,
      "outputs": [
        {
          "output_type": "display_data",
          "data": {
            "image/png": "[encoded data removed]",
            "text/plain": [
              "<Figure size 432x288 with 1 Axes>"
            ]
          },
          "metadata": {
            "tags": [],
            "needs_background": "light"
          }
        }
      ]
    },
    {
      "cell_type": "markdown",
      "metadata": {
        "id": "FjkTmt_o3QvP"
      },
      "source": [
        "#**Data Exploring**"
      ]
    },
    {
      "cell_type": "code",
      "metadata": {
        "id": "lx5X1EoFKLld"
      },
      "source": [
        "data.hist(figsize=(50,50),bins = 20, color=\"#107009AA\")\n",
        "plt.title(\"Features Distribution\")\n",
        "plt.show()"
      ],
      "execution_count": null,
      "outputs": []
    },
    {
      "cell_type": "code",
      "metadata": {
        "id": "agvbjQbZfMHW"
      },
      "source": [
        "import numpy as np # linear algebra\n",
        "import pandas as pd # data processing, CSV file I/O (e.g. pd.read_csv)\n",
        "import matplotlib.pyplot as plt # Data visualization\n",
        "import seaborn as sb \n",
        "from itertools import product\n",
        "%matplotlib inline"
      ],
      "execution_count": null,
      "outputs": []
    },
    {
      "cell_type": "code",
      "metadata": {
        "colab": {
          "base_uri": "https://localhost:8080/"
        },
        "id": "fRJzH8EkfeMt",
        "outputId": "97f568c8-85df-47b3-89ae-32556023b591"
      },
      "source": [
        "# Value of count of different Specialization\n",
        "data['hsc_s'].value_counts()"
      ],
      "execution_count": null,
      "outputs": [
        {
          "output_type": "execute_result",
          "data": {
            "text/plain": [
              "Commerce    113\n",
              "Science      91\n",
              "Arts         11\n",
              "Name: hsc_s, dtype: int64"
            ]
          },
          "metadata": {
            "tags": []
          },
          "execution_count": 10
        }
      ]
    },
    {
      "cell_type": "code",
      "metadata": {
        "colab": {
          "base_uri": "https://localhost:8080/",
          "height": 496
        },
        "id": "ooQ9LsAbfVf-",
        "outputId": "110fcf6c-6168-4cc5-c4e2-1c2f69d0bc36"
      },
      "source": [
        "# Visualization of higher secondary specialization\n",
        "cls_name = ['Commerce', 'Science', 'Arts']\n",
        "fig, ax = plt.subplots(figsize = (14.7, 8.27))\n",
        "wedges, text, autotext = ax.pie(data['hsc_s'].value_counts(), labels = cls_name, autopct = '%1.2f%%')\n",
        "ax.legend(wedges, cls_name, loc = \"center left\", bbox_to_anchor =(1, 0, 0.5, 1))\n",
        "ax.set_title(\"Proportion of Different Specialization in Higher Secondary\");"
      ],
      "execution_count": null,
      "outputs": [
        {
          "output_type": "display_data",
          "data": {
            "image/png": "[encoded data removed]",
            "text/plain": [
              "<Figure size 1058.4x595.44 with 1 Axes>"
            ]
          },
          "metadata": {
            "tags": []
          }
        }
      ]
    },
    {
      "cell_type": "code",
      "metadata": {
        "colab": {
          "base_uri": "https://localhost:8080/",
          "height": 496
        },
        "id": "ATLOqFvIfut0",
        "outputId": "27dee22f-a60e-45fe-c71b-f69e643ef7a9"
      },
      "source": [
        "# Visualization of higher secondary specialization\n",
        "cls_name = ['Commerce', 'Science', 'Arts']\n",
        "fig, ax = plt.subplots(figsize = (14.7, 8.27))\n",
        "wedges, text, autotext = ax.pie(data['hsc_s'].value_counts(), labels = cls_name, autopct = '%1.2f%%')\n",
        "ax.legend(wedges, cls_name, loc = \"center left\", bbox_to_anchor =(1, 0, 0.5, 1))\n",
        "ax.set_title(\"Proportion of Different Specialization in Higher Secondary\");"
      ],
      "execution_count": null,
      "outputs": [
        {
          "output_type": "display_data",
          "data": {
            "image/png": "[encoded data removed]",
            "text/plain": [
              "<Figure size 1058.4x595.44 with 1 Axes>"
            ]
          },
          "metadata": {
            "tags": []
          }
        }
      ]
    },
    {
      "cell_type": "code",
      "metadata": {
        "colab": {
          "base_uri": "https://localhost:8080/",
          "height": 496
        },
        "id": "_QA8gVatf7hB",
        "outputId": "f0f69ebc-1c7d-4393-c184-b3dfecbd6901"
      },
      "source": [
        "# Visualization of Degree Specialization\n",
        "fig, ax = plt.subplots(figsize = (14.7, 8.27))\n",
        "wedges, text, autotext = ax.pie(data['degree_t'].value_counts(),\n",
        "                                labels = data['degree_t'].value_counts().index, \n",
        "                                autopct = '%1.2f%%')\n",
        "ax.legend(wedges, data['degree_t'].value_counts().index,\n",
        "          loc = \"center left\", bbox_to_anchor =(1, 0, 0.5, 1))\n",
        "ax.set_title(\"Proportion of Different Specialization in Degree\");"
      ],
      "execution_count": null,
      "outputs": [
        {
          "output_type": "display_data",
          "data": {
            "image/png": "[encoded data removed]",
            "text/plain": [
              "<Figure size 1058.4x595.44 with 1 Axes>"
            ]
          },
          "metadata": {
            "tags": []
          }
        }
      ]
    },
    {
      "cell_type": "code",
      "metadata": {
        "colab": {
          "base_uri": "https://localhost:8080/",
          "height": 512
        },
        "id": "ihLAgntDgQJM",
        "outputId": "df5ef713-01ab-493b-d540-7ddb6800d563"
      },
      "source": [
        "# Visualization of Postgrad Specialization\n",
        "fig, ax = plt.subplots(figsize = (14.7, 8.27))\n",
        "wedges, text, autotext = ax.pie(data['specialisation'].value_counts(),\n",
        "                                labels = data['specialisation'].value_counts().index, \n",
        "                                autopct = '%1.2f%%')\n",
        "ax.legend(wedges, data['specialisation'].value_counts().index,\n",
        "          loc = \"center left\", bbox_to_anchor =(1, 0, 0.5, 1))\n",
        "ax.set_title(\"Proportion of Different Specialization in Post Graduation\")"
      ],
      "execution_count": null,
      "outputs": [
        {
          "output_type": "execute_result",
          "data": {
            "text/plain": [
              "Text(0.5, 1.0, 'Proportion of Different Specialization in Post Graduation')"
            ]
          },
          "metadata": {
            "tags": []
          },
          "execution_count": 20
        },
        {
          "output_type": "display_data",
          "data": {
            "image/png": "[encoded data removed]",
            "text/plain": [
              "<Figure size 1058.4x595.44 with 1 Axes>"
            ]
          },
          "metadata": {
            "tags": []
          }
        }
      ]
    },
    {
      "cell_type": "code",
      "metadata": {
        "id": "aLwIuW0x2htu"
      },
      "source": [
        "!pip install dtale"
      ],
      "execution_count": null,
      "outputs": []
    },
    {
      "cell_type": "code",
      "metadata": {
        "colab": {
          "base_uri": "https://localhost:8080/"
        },
        "id": "Tnfxwn-V3EKO",
        "outputId": "2eb70d92-3df3-499a-8428-ac6bdcbd251b"
      },
      "source": [
        "import dtale\n",
        "import pandas as pd\n",
        "df = pd.read_csv(\"/content/drive/MyDrive/Datasets/Recommended System/Placement_Data_Full_Class.csv\")\n",
        "d = dtale.show(df, ignore_duplicate=True)\n",
        "d"
      ],
      "execution_count": null,
      "outputs": [
        {
          "output_type": "execute_result",
          "data": {
            "text/plain": [
              "http://c13ddc6c8837:40000/dtale/main/2"
            ]
          },
          "metadata": {
            "tags": []
          },
          "execution_count": 7
        }
      ]
    },
    {
      "cell_type": "markdown",
      "metadata": {
        "id": "jiWR55uD2qa3"
      },
      "source": [
        "**Pandas Profiling**"
      ]
    },
    {
      "cell_type": "code",
      "metadata": {
        "id": "SAhKmZjJ10Qx"
      },
      "source": [
        "!pip install pandas-profiling"
      ],
      "execution_count": null,
      "outputs": []
    },
    {
      "cell_type": "code",
      "metadata": {
        "id": "uUTS3kzn18Zo"
      },
      "source": [
        "import pandas as pd\n",
        "import pandas_profiling\n",
        "import numpy as np"
      ],
      "execution_count": null,
      "outputs": []
    },
    {
      "cell_type": "code",
      "metadata": {
        "id": "7-IQ-nXh2CRx"
      },
      "source": [
        "pandas_profiling.ProfileReport(data)"
      ],
      "execution_count": null,
      "outputs": []
    },
    {
      "cell_type": "markdown",
      "metadata": {
        "id": "UJCaykbf3bsm"
      },
      "source": [
        "**Sweetviz**"
      ]
    },
    {
      "cell_type": "code",
      "metadata": {
        "id": "JShsU_Cx3j8Q"
      },
      "source": [
        "!pip install sweetviz"
      ],
      "execution_count": null,
      "outputs": []
    },
    {
      "cell_type": "code",
      "metadata": {
        "colab": {
          "base_uri": "https://localhost:8080/",
          "height": 65,
          "referenced_widgets": [
            "405d08eaeb7b405f9c17728e58124f96",
            "3efea62e550a42698d948d44a0b0ae67",
            "c729d2f82b24437cb1bd1652f8e17c74",
            "f03be62342074429895078a6718251a1",
            "b203d929353d4c6c9260afe41c4c4eb0",
            "9772d2a66ad049889e3d59b29babf54b",
            "661e29db09b3458a906ffc834b00ae8e",
            "a5349fa05b63487e85fd3ee47fa954c4",
            "de21026de7c04203a7192472e86102d3",
            "c35d928242dd48d69b0cecb7596a2755",
            "d4d098de6ec44b73be8574dc4143d149"
          ]
        },
        "id": "teKO1mOX3tc-",
        "outputId": "a620685e-4952-4e80-a0ae-ae584e0b62fa"
      },
      "source": [
        "import sweetviz\n",
        "import pandas as pd\n",
        "my_report  = sweetviz.analyze([data,'Train'], target_feat='specialisation')\n",
        "my_report.show_html('FinalReport.html')"
      ],
      "execution_count": null,
      "outputs": [
        {
          "output_type": "display_data",
          "data": {
            "application/vnd.jupyter.widget-view+json": {
              "model_id": "405d08eaeb7b405f9c17728e58124f96",
              "version_minor": 0,
              "version_major": 2
            },
            "text/plain": [
              "                                             |          | [  0%]   00:00 -> (? left)"
            ]
          },
          "metadata": {
            "tags": []
          }
        },
        {
          "output_type": "stream",
          "text": [
            "Report FinalReport.html was generated! NOTEBOOK/COLAB USERS: the web browser MAY not pop up, regardless, the report IS saved in your notebook/colab files.\n"
          ],
          "name": "stdout"
        }
      ]
    },
    {
      "cell_type": "markdown",
      "metadata": {
        "id": "9i0NMm8q4v7_"
      },
      "source": [
        "**Autoviz**\n",
        "\n",
        "It stands for Automatically Visualize. Visualization is possible with any size of the dataset with a few lines of code."
      ]
    },
    {
      "cell_type": "code",
      "metadata": {
        "id": "Y12-00F84Lj3"
      },
      "source": [
        "!pip install autoviz"
      ],
      "execution_count": null,
      "outputs": []
    },
    {
      "cell_type": "code",
      "metadata": {
        "id": "JW_PXBYQ4UN-"
      },
      "source": [
        "from autoviz.AutoViz_Class import AutoViz_Class\n",
        "AV = AutoViz_Class()\n",
        "df = AV.AutoViz('/content/drive/MyDrive/Datasets/Recommended System/Placement_Data_Full_Class.csv')"
      ],
      "execution_count": null,
      "outputs": []
    },
    {
      "cell_type": "markdown",
      "metadata": {
        "id": "i10fhKO72x7e"
      },
      "source": [
        "#**Implementaion using pycaret**"
      ]
    },
    {
      "cell_type": "code",
      "metadata": {
        "id": "u4WXeZtNoTY4"
      },
      "source": [
        "!pip install pycaret\n"
      ],
      "execution_count": null,
      "outputs": []
    },
    {
      "cell_type": "code",
      "metadata": {
        "id": "lZ5vbSHTtvf2"
      },
      "source": [
        "from pycaret.classification import *\n",
        "clf = setup(data, target = \"specialisation\",\n",
        "            ignore_features=[\"sl_no\"], \n",
        "            silent = True, session_id = 786)"
      ],
      "execution_count": null,
      "outputs": []
    },
    {
      "cell_type": "code",
      "metadata": {
        "id": "jL59JhpXuNXe"
      },
      "source": [
        "compare_models()\n"
      ],
      "execution_count": null,
      "outputs": []
    },
    {
      "cell_type": "markdown",
      "metadata": {
        "id": "aYKx5H9Eo1s0"
      },
      "source": [
        "# **Statisticlal Operation on Dataset**"
      ]
    },
    {
      "cell_type": "code",
      "metadata": {
        "id": "t5GyBm_75Cd-"
      },
      "source": [
        "# creating a datasets to illustrate negative correlation.\n",
        "\n",
        "# importing libraries\n",
        "import numpy as np\n",
        "import pandas as pd\n",
        "import scipy\n",
        "\n",
        "from numpy import mean\n",
        "from numpy import std\n",
        "from numpy.random import randn\n",
        "from numpy.random import seed\n",
        "from matplotlib import pyplot"
      ],
      "execution_count": null,
      "outputs": []
    },
    {
      "cell_type": "code",
      "metadata": {
        "colab": {
          "base_uri": "https://localhost:8080/",
          "height": 439
        },
        "id": "r1lhaMrR_zMi",
        "outputId": "22a4acc1-557e-47ed-e662-061c9616c2ab"
      },
      "source": [
        "data"
      ],
      "execution_count": null,
      "outputs": [
        {
          "output_type": "execute_result",
          "data": {
            "text/html": [
              "<div>\n",
              "<style scoped>\n",
              "    .dataframe tbody tr th:only-of-type {\n",
              "        vertical-align: middle;\n",
              "    }\n",
              "\n",
              "    .dataframe tbody tr th {\n",
              "        vertical-align: top;\n",
              "    }\n",
              "\n",
              "    .dataframe thead th {\n",
              "        text-align: right;\n",
              "    }\n",
              "</style>\n",
              "<table border=\"1\" class=\"dataframe\">\n",
              "  <thead>\n",
              "    <tr style=\"text-align: right;\">\n",
              "      <th></th>\n",
              "      <th>sl_no</th>\n",
              "      <th>gender</th>\n",
              "      <th>ssc_p</th>\n",
              "      <th>ssc_b</th>\n",
              "      <th>hsc_p</th>\n",
              "      <th>hsc_b</th>\n",
              "      <th>hsc_s</th>\n",
              "      <th>degree_p</th>\n",
              "      <th>degree_t</th>\n",
              "      <th>workex</th>\n",
              "      <th>etest_p</th>\n",
              "      <th>specialisation</th>\n",
              "      <th>mba_p</th>\n",
              "      <th>status</th>\n",
              "      <th>ssc_p_catg</th>\n",
              "      <th>hsc_p_catg</th>\n",
              "      <th>mba_p_catg</th>\n",
              "      <th>degree_p_catg</th>\n",
              "      <th>etest_p_catg</th>\n",
              "    </tr>\n",
              "  </thead>\n",
              "  <tbody>\n",
              "    <tr>\n",
              "      <th>0</th>\n",
              "      <td>1</td>\n",
              "      <td>1</td>\n",
              "      <td>67.00</td>\n",
              "      <td>1</td>\n",
              "      <td>91.00</td>\n",
              "      <td>1</td>\n",
              "      <td>1</td>\n",
              "      <td>58.00</td>\n",
              "      <td>2</td>\n",
              "      <td>0</td>\n",
              "      <td>55.0</td>\n",
              "      <td>1</td>\n",
              "      <td>58.80</td>\n",
              "      <td>1</td>\n",
              "      <td>0</td>\n",
              "      <td>1</td>\n",
              "      <td>1</td>\n",
              "      <td>2</td>\n",
              "      <td>2</td>\n",
              "    </tr>\n",
              "    <tr>\n",
              "      <th>1</th>\n",
              "      <td>2</td>\n",
              "      <td>1</td>\n",
              "      <td>79.33</td>\n",
              "      <td>0</td>\n",
              "      <td>78.33</td>\n",
              "      <td>1</td>\n",
              "      <td>2</td>\n",
              "      <td>77.48</td>\n",
              "      <td>2</td>\n",
              "      <td>1</td>\n",
              "      <td>86.5</td>\n",
              "      <td>0</td>\n",
              "      <td>66.28</td>\n",
              "      <td>1</td>\n",
              "      <td>0</td>\n",
              "      <td>0</td>\n",
              "      <td>0</td>\n",
              "      <td>0</td>\n",
              "      <td>1</td>\n",
              "    </tr>\n",
              "    <tr>\n",
              "      <th>2</th>\n",
              "      <td>3</td>\n",
              "      <td>1</td>\n",
              "      <td>65.00</td>\n",
              "      <td>0</td>\n",
              "      <td>68.00</td>\n",
              "      <td>0</td>\n",
              "      <td>0</td>\n",
              "      <td>64.00</td>\n",
              "      <td>0</td>\n",
              "      <td>0</td>\n",
              "      <td>75.0</td>\n",
              "      <td>0</td>\n",
              "      <td>57.80</td>\n",
              "      <td>1</td>\n",
              "      <td>0</td>\n",
              "      <td>0</td>\n",
              "      <td>1</td>\n",
              "      <td>0</td>\n",
              "      <td>0</td>\n",
              "    </tr>\n",
              "    <tr>\n",
              "      <th>3</th>\n",
              "      <td>4</td>\n",
              "      <td>1</td>\n",
              "      <td>56.00</td>\n",
              "      <td>0</td>\n",
              "      <td>52.00</td>\n",
              "      <td>0</td>\n",
              "      <td>2</td>\n",
              "      <td>52.00</td>\n",
              "      <td>2</td>\n",
              "      <td>0</td>\n",
              "      <td>66.0</td>\n",
              "      <td>1</td>\n",
              "      <td>59.43</td>\n",
              "      <td>0</td>\n",
              "      <td>2</td>\n",
              "      <td>2</td>\n",
              "      <td>1</td>\n",
              "      <td>2</td>\n",
              "      <td>0</td>\n",
              "    </tr>\n",
              "    <tr>\n",
              "      <th>4</th>\n",
              "      <td>5</td>\n",
              "      <td>1</td>\n",
              "      <td>85.80</td>\n",
              "      <td>0</td>\n",
              "      <td>73.60</td>\n",
              "      <td>0</td>\n",
              "      <td>1</td>\n",
              "      <td>73.30</td>\n",
              "      <td>0</td>\n",
              "      <td>0</td>\n",
              "      <td>96.8</td>\n",
              "      <td>0</td>\n",
              "      <td>55.50</td>\n",
              "      <td>1</td>\n",
              "      <td>1</td>\n",
              "      <td>0</td>\n",
              "      <td>1</td>\n",
              "      <td>0</td>\n",
              "      <td>1</td>\n",
              "    </tr>\n",
              "    <tr>\n",
              "      <th>...</th>\n",
              "      <td>...</td>\n",
              "      <td>...</td>\n",
              "      <td>...</td>\n",
              "      <td>...</td>\n",
              "      <td>...</td>\n",
              "      <td>...</td>\n",
              "      <td>...</td>\n",
              "      <td>...</td>\n",
              "      <td>...</td>\n",
              "      <td>...</td>\n",
              "      <td>...</td>\n",
              "      <td>...</td>\n",
              "      <td>...</td>\n",
              "      <td>...</td>\n",
              "      <td>...</td>\n",
              "      <td>...</td>\n",
              "      <td>...</td>\n",
              "      <td>...</td>\n",
              "      <td>...</td>\n",
              "    </tr>\n",
              "    <tr>\n",
              "      <th>210</th>\n",
              "      <td>211</td>\n",
              "      <td>1</td>\n",
              "      <td>80.60</td>\n",
              "      <td>1</td>\n",
              "      <td>82.00</td>\n",
              "      <td>1</td>\n",
              "      <td>1</td>\n",
              "      <td>77.60</td>\n",
              "      <td>0</td>\n",
              "      <td>0</td>\n",
              "      <td>91.0</td>\n",
              "      <td>0</td>\n",
              "      <td>74.49</td>\n",
              "      <td>1</td>\n",
              "      <td>0</td>\n",
              "      <td>0</td>\n",
              "      <td>0</td>\n",
              "      <td>0</td>\n",
              "      <td>1</td>\n",
              "    </tr>\n",
              "    <tr>\n",
              "      <th>211</th>\n",
              "      <td>212</td>\n",
              "      <td>1</td>\n",
              "      <td>58.00</td>\n",
              "      <td>1</td>\n",
              "      <td>60.00</td>\n",
              "      <td>1</td>\n",
              "      <td>2</td>\n",
              "      <td>72.00</td>\n",
              "      <td>2</td>\n",
              "      <td>0</td>\n",
              "      <td>74.0</td>\n",
              "      <td>0</td>\n",
              "      <td>53.62</td>\n",
              "      <td>1</td>\n",
              "      <td>2</td>\n",
              "      <td>0</td>\n",
              "      <td>1</td>\n",
              "      <td>0</td>\n",
              "      <td>0</td>\n",
              "    </tr>\n",
              "    <tr>\n",
              "      <th>212</th>\n",
              "      <td>213</td>\n",
              "      <td>1</td>\n",
              "      <td>67.00</td>\n",
              "      <td>1</td>\n",
              "      <td>67.00</td>\n",
              "      <td>1</td>\n",
              "      <td>1</td>\n",
              "      <td>73.00</td>\n",
              "      <td>0</td>\n",
              "      <td>1</td>\n",
              "      <td>59.0</td>\n",
              "      <td>0</td>\n",
              "      <td>69.72</td>\n",
              "      <td>1</td>\n",
              "      <td>0</td>\n",
              "      <td>0</td>\n",
              "      <td>0</td>\n",
              "      <td>0</td>\n",
              "      <td>2</td>\n",
              "    </tr>\n",
              "    <tr>\n",
              "      <th>213</th>\n",
              "      <td>214</td>\n",
              "      <td>0</td>\n",
              "      <td>74.00</td>\n",
              "      <td>1</td>\n",
              "      <td>66.00</td>\n",
              "      <td>1</td>\n",
              "      <td>1</td>\n",
              "      <td>58.00</td>\n",
              "      <td>0</td>\n",
              "      <td>0</td>\n",
              "      <td>70.0</td>\n",
              "      <td>1</td>\n",
              "      <td>60.23</td>\n",
              "      <td>1</td>\n",
              "      <td>0</td>\n",
              "      <td>0</td>\n",
              "      <td>0</td>\n",
              "      <td>2</td>\n",
              "      <td>0</td>\n",
              "    </tr>\n",
              "    <tr>\n",
              "      <th>214</th>\n",
              "      <td>215</td>\n",
              "      <td>1</td>\n",
              "      <td>62.00</td>\n",
              "      <td>0</td>\n",
              "      <td>58.00</td>\n",
              "      <td>1</td>\n",
              "      <td>2</td>\n",
              "      <td>53.00</td>\n",
              "      <td>0</td>\n",
              "      <td>0</td>\n",
              "      <td>89.0</td>\n",
              "      <td>1</td>\n",
              "      <td>60.22</td>\n",
              "      <td>0</td>\n",
              "      <td>0</td>\n",
              "      <td>2</td>\n",
              "      <td>0</td>\n",
              "      <td>2</td>\n",
              "      <td>1</td>\n",
              "    </tr>\n",
              "  </tbody>\n",
              "</table>\n",
              "<p>215 rows × 19 columns</p>\n",
              "</div>"
            ],
            "text/plain": [
              "     sl_no  gender  ssc_p  ...  mba_p_catg  degree_p_catg  etest_p_catg\n",
              "0        1       1  67.00  ...           1              2             2\n",
              "1        2       1  79.33  ...           0              0             1\n",
              "2        3       1  65.00  ...           1              0             0\n",
              "3        4       1  56.00  ...           1              2             0\n",
              "4        5       1  85.80  ...           1              0             1\n",
              "..     ...     ...    ...  ...         ...            ...           ...\n",
              "210    211       1  80.60  ...           0              0             1\n",
              "211    212       1  58.00  ...           1              0             0\n",
              "212    213       1  67.00  ...           0              0             2\n",
              "213    214       0  74.00  ...           0              2             0\n",
              "214    215       1  62.00  ...           0              2             1\n",
              "\n",
              "[215 rows x 19 columns]"
            ]
          },
          "metadata": {
            "tags": []
          },
          "execution_count": 14
        }
      ]
    },
    {
      "cell_type": "code",
      "metadata": {
        "colab": {
          "base_uri": "https://localhost:8080/",
          "height": 317
        },
        "id": "DAfrzw5qHFaH",
        "outputId": "61a40391-40ed-4fe5-bc85-fe3658e22e94"
      },
      "source": [
        "data.describe()"
      ],
      "execution_count": null,
      "outputs": [
        {
          "output_type": "execute_result",
          "data": {
            "text/html": [
              "<div>\n",
              "<style scoped>\n",
              "    .dataframe tbody tr th:only-of-type {\n",
              "        vertical-align: middle;\n",
              "    }\n",
              "\n",
              "    .dataframe tbody tr th {\n",
              "        vertical-align: top;\n",
              "    }\n",
              "\n",
              "    .dataframe thead th {\n",
              "        text-align: right;\n",
              "    }\n",
              "</style>\n",
              "<table border=\"1\" class=\"dataframe\">\n",
              "  <thead>\n",
              "    <tr style=\"text-align: right;\">\n",
              "      <th></th>\n",
              "      <th>sl_no</th>\n",
              "      <th>gender</th>\n",
              "      <th>ssc_p</th>\n",
              "      <th>ssc_b</th>\n",
              "      <th>hsc_p</th>\n",
              "      <th>hsc_b</th>\n",
              "      <th>hsc_s</th>\n",
              "      <th>degree_p</th>\n",
              "      <th>degree_t</th>\n",
              "      <th>workex</th>\n",
              "      <th>etest_p</th>\n",
              "      <th>specialisation</th>\n",
              "      <th>mba_p</th>\n",
              "      <th>status</th>\n",
              "      <th>ssc_p_catg</th>\n",
              "      <th>hsc_p_catg</th>\n",
              "      <th>mba_p_catg</th>\n",
              "      <th>degree_p_catg</th>\n",
              "      <th>etest_p_catg</th>\n",
              "    </tr>\n",
              "  </thead>\n",
              "  <tbody>\n",
              "    <tr>\n",
              "      <th>count</th>\n",
              "      <td>215.000000</td>\n",
              "      <td>215.000000</td>\n",
              "      <td>215.000000</td>\n",
              "      <td>215.000000</td>\n",
              "      <td>215.000000</td>\n",
              "      <td>215.000000</td>\n",
              "      <td>215.000000</td>\n",
              "      <td>215.000000</td>\n",
              "      <td>215.000000</td>\n",
              "      <td>215.000000</td>\n",
              "      <td>215.000000</td>\n",
              "      <td>215.000000</td>\n",
              "      <td>215.000000</td>\n",
              "      <td>215.000000</td>\n",
              "      <td>215.000000</td>\n",
              "      <td>215.000000</td>\n",
              "      <td>215.000000</td>\n",
              "      <td>215.000000</td>\n",
              "      <td>215.000000</td>\n",
              "    </tr>\n",
              "    <tr>\n",
              "      <th>mean</th>\n",
              "      <td>108.000000</td>\n",
              "      <td>0.646512</td>\n",
              "      <td>67.303395</td>\n",
              "      <td>0.460465</td>\n",
              "      <td>66.333163</td>\n",
              "      <td>0.609302</td>\n",
              "      <td>1.372093</td>\n",
              "      <td>66.370186</td>\n",
              "      <td>0.600000</td>\n",
              "      <td>0.344186</td>\n",
              "      <td>72.100558</td>\n",
              "      <td>0.441860</td>\n",
              "      <td>62.278186</td>\n",
              "      <td>0.688372</td>\n",
              "      <td>0.506977</td>\n",
              "      <td>0.451163</td>\n",
              "      <td>0.376744</td>\n",
              "      <td>0.381395</td>\n",
              "      <td>0.641860</td>\n",
              "    </tr>\n",
              "    <tr>\n",
              "      <th>std</th>\n",
              "      <td>62.209324</td>\n",
              "      <td>0.479168</td>\n",
              "      <td>10.827205</td>\n",
              "      <td>0.499598</td>\n",
              "      <td>10.897509</td>\n",
              "      <td>0.489045</td>\n",
              "      <td>0.580978</td>\n",
              "      <td>7.358743</td>\n",
              "      <td>0.890238</td>\n",
              "      <td>0.476211</td>\n",
              "      <td>13.275956</td>\n",
              "      <td>0.497767</td>\n",
              "      <td>5.833385</td>\n",
              "      <td>0.464240</td>\n",
              "      <td>0.847590</td>\n",
              "      <td>0.800809</td>\n",
              "      <td>0.485701</td>\n",
              "      <td>0.781580</td>\n",
              "      <td>0.807162</td>\n",
              "    </tr>\n",
              "    <tr>\n",
              "      <th>min</th>\n",
              "      <td>1.000000</td>\n",
              "      <td>0.000000</td>\n",
              "      <td>40.890000</td>\n",
              "      <td>0.000000</td>\n",
              "      <td>37.000000</td>\n",
              "      <td>0.000000</td>\n",
              "      <td>0.000000</td>\n",
              "      <td>50.000000</td>\n",
              "      <td>0.000000</td>\n",
              "      <td>0.000000</td>\n",
              "      <td>50.000000</td>\n",
              "      <td>0.000000</td>\n",
              "      <td>51.210000</td>\n",
              "      <td>0.000000</td>\n",
              "      <td>0.000000</td>\n",
              "      <td>0.000000</td>\n",
              "      <td>0.000000</td>\n",
              "      <td>0.000000</td>\n",
              "      <td>0.000000</td>\n",
              "    </tr>\n",
              "    <tr>\n",
              "      <th>25%</th>\n",
              "      <td>54.500000</td>\n",
              "      <td>0.000000</td>\n",
              "      <td>60.600000</td>\n",
              "      <td>0.000000</td>\n",
              "      <td>60.900000</td>\n",
              "      <td>0.000000</td>\n",
              "      <td>1.000000</td>\n",
              "      <td>61.000000</td>\n",
              "      <td>0.000000</td>\n",
              "      <td>0.000000</td>\n",
              "      <td>60.000000</td>\n",
              "      <td>0.000000</td>\n",
              "      <td>57.945000</td>\n",
              "      <td>0.000000</td>\n",
              "      <td>0.000000</td>\n",
              "      <td>0.000000</td>\n",
              "      <td>0.000000</td>\n",
              "      <td>0.000000</td>\n",
              "      <td>0.000000</td>\n",
              "    </tr>\n",
              "    <tr>\n",
              "      <th>50%</th>\n",
              "      <td>108.000000</td>\n",
              "      <td>1.000000</td>\n",
              "      <td>67.000000</td>\n",
              "      <td>0.000000</td>\n",
              "      <td>65.000000</td>\n",
              "      <td>1.000000</td>\n",
              "      <td>1.000000</td>\n",
              "      <td>66.000000</td>\n",
              "      <td>0.000000</td>\n",
              "      <td>0.000000</td>\n",
              "      <td>71.000000</td>\n",
              "      <td>0.000000</td>\n",
              "      <td>62.000000</td>\n",
              "      <td>1.000000</td>\n",
              "      <td>0.000000</td>\n",
              "      <td>0.000000</td>\n",
              "      <td>0.000000</td>\n",
              "      <td>0.000000</td>\n",
              "      <td>0.000000</td>\n",
              "    </tr>\n",
              "    <tr>\n",
              "      <th>75%</th>\n",
              "      <td>161.500000</td>\n",
              "      <td>1.000000</td>\n",
              "      <td>75.700000</td>\n",
              "      <td>1.000000</td>\n",
              "      <td>73.000000</td>\n",
              "      <td>1.000000</td>\n",
              "      <td>2.000000</td>\n",
              "      <td>72.000000</td>\n",
              "      <td>2.000000</td>\n",
              "      <td>1.000000</td>\n",
              "      <td>83.500000</td>\n",
              "      <td>1.000000</td>\n",
              "      <td>66.255000</td>\n",
              "      <td>1.000000</td>\n",
              "      <td>1.000000</td>\n",
              "      <td>1.000000</td>\n",
              "      <td>1.000000</td>\n",
              "      <td>0.000000</td>\n",
              "      <td>1.000000</td>\n",
              "    </tr>\n",
              "    <tr>\n",
              "      <th>max</th>\n",
              "      <td>215.000000</td>\n",
              "      <td>1.000000</td>\n",
              "      <td>89.400000</td>\n",
              "      <td>1.000000</td>\n",
              "      <td>97.700000</td>\n",
              "      <td>1.000000</td>\n",
              "      <td>2.000000</td>\n",
              "      <td>91.000000</td>\n",
              "      <td>2.000000</td>\n",
              "      <td>1.000000</td>\n",
              "      <td>98.000000</td>\n",
              "      <td>1.000000</td>\n",
              "      <td>77.890000</td>\n",
              "      <td>1.000000</td>\n",
              "      <td>2.000000</td>\n",
              "      <td>2.000000</td>\n",
              "      <td>1.000000</td>\n",
              "      <td>2.000000</td>\n",
              "      <td>2.000000</td>\n",
              "    </tr>\n",
              "  </tbody>\n",
              "</table>\n",
              "</div>"
            ],
            "text/plain": [
              "            sl_no      gender  ...  degree_p_catg  etest_p_catg\n",
              "count  215.000000  215.000000  ...     215.000000    215.000000\n",
              "mean   108.000000    0.646512  ...       0.381395      0.641860\n",
              "std     62.209324    0.479168  ...       0.781580      0.807162\n",
              "min      1.000000    0.000000  ...       0.000000      0.000000\n",
              "25%     54.500000    0.000000  ...       0.000000      0.000000\n",
              "50%    108.000000    1.000000  ...       0.000000      0.000000\n",
              "75%    161.500000    1.000000  ...       0.000000      1.000000\n",
              "max    215.000000    1.000000  ...       2.000000      2.000000\n",
              "\n",
              "[8 rows x 19 columns]"
            ]
          },
          "metadata": {
            "tags": []
          },
          "execution_count": 72
        }
      ]
    },
    {
      "cell_type": "code",
      "metadata": {
        "id": "cPRQ6chxMoI-"
      },
      "source": [
        ""
      ],
      "execution_count": null,
      "outputs": []
    },
    {
      "cell_type": "code",
      "metadata": {
        "id": "ps8za55F5KrZ"
      },
      "source": [
        "corr, pvalue=scipy.stats.pearsonr(data['etest_p_catg'], data['specialisation'])"
      ],
      "execution_count": null,
      "outputs": []
    },
    {
      "cell_type": "code",
      "metadata": {
        "id": "XZ9x_ueI5NQQ",
        "colab": {
          "base_uri": "https://localhost:8080/"
        },
        "outputId": "9b1fa8ab-f6d4-4a3c-ad5c-c930f316b5a0"
      },
      "source": [
        "print('correlation coefficent', corr)\n"
      ],
      "execution_count": null,
      "outputs": [
        {
          "output_type": "stream",
          "text": [
            "correlation coefficent -0.011360044406083092\n"
          ],
          "name": "stdout"
        }
      ]
    },
    {
      "cell_type": "code",
      "metadata": {
        "colab": {
          "base_uri": "https://localhost:8080/"
        },
        "id": "Ig9O6FH0AfQm",
        "outputId": "ca30e358-7497-4aa2-f074-97ac23404d99"
      },
      "source": [
        "print('P-value without a notations','{:0.300f}'.format(pvalue))"
      ],
      "execution_count": null,
      "outputs": [
        {
          "output_type": "stream",
          "text": [
            "P-value without a notations 0.868467611116556459371906839805888012051582336425781250000000000000000000000000000000000000000000000000000000000000000000000000000000000000000000000000000000000000000000000000000000000000000000000000000000000000000000000000000000000000000000000000000000000000000000000000000000000000000000000000000000\n"
          ],
          "name": "stdout"
        }
      ]
    },
    {
      "cell_type": "markdown",
      "metadata": {
        "id": "N_NtIICvHIA9"
      },
      "source": [
        "#  **4-Model Training**"
      ]
    },
    {
      "cell_type": "markdown",
      "metadata": {
        "id": "VfjbBfbyHMq6"
      },
      "source": [
        "**Decision Trees**"
      ]
    },
    {
      "cell_type": "code",
      "metadata": {
        "id": "Mw1z3MaBHSLe",
        "colab": {
          "base_uri": "https://localhost:8080/"
        },
        "outputId": "40c2e7f4-ef71-47d3-96ec-3b8e139a399b"
      },
      "source": [
        "DTC=DecisionTreeClassifier(random_state=0, max_depth=2)\n",
        "DTC= DTC.fit(X_train , y_train)\n",
        "DTC"
      ],
      "execution_count": 58,
      "outputs": [
        {
          "output_type": "execute_result",
          "data": {
            "text/plain": [
              "DecisionTreeClassifier(ccp_alpha=0.0, class_weight=None, criterion='gini',\n",
              "                       max_depth=2, max_features=None, max_leaf_nodes=None,\n",
              "                       min_impurity_decrease=0.0, min_impurity_split=None,\n",
              "                       min_samples_leaf=1, min_samples_split=2,\n",
              "                       min_weight_fraction_leaf=0.0, presort='deprecated',\n",
              "                       random_state=0, splitter='best')"
            ]
          },
          "metadata": {},
          "execution_count": 58
        }
      ]
    },
    {
      "cell_type": "code",
      "metadata": {
        "colab": {
          "base_uri": "https://localhost:8080/"
        },
        "id": "jCfvU03fHYzn",
        "outputId": "b01eec17-7b51-451f-d77a-a012d0a6b8e2"
      },
      "source": [
        "y_pred_dt = DTC.predict(X_test)\n",
        "dt=DTC.score(X_test, y_test)\n",
        "print('Accuracy score= {:.4f}'.format(DTC.score(X_test, y_test)))"
      ],
      "execution_count": 59,
      "outputs": [
        {
          "output_type": "stream",
          "name": "stdout",
          "text": [
            "Accuracy score= 0.5538\n"
          ]
        }
      ]
    },
    {
      "cell_type": "code",
      "metadata": {
        "id": "Izg_bmE-TdIk",
        "colab": {
          "base_uri": "https://localhost:8080/",
          "height": 727
        },
        "outputId": "0d707ee7-f618-4db8-a7dc-22ddc7947e35"
      },
      "source": [
        "# confusion matrix\n",
        "print('\\n')\n",
        "print(\"confusion matrix\")\n",
        "print('\\n')\n",
        "CR_dt=confusion_matrix(y_test, y_pred_dt)\n",
        "print(CR_dt)\n",
        "print('\\n')\n",
        "\n",
        "fig, ax = plot_confusion_matrix(conf_mat=CR_dt,figsize=(10, 10),\n",
        "                                show_absolute=True,\n",
        "                                show_normed=True,\n",
        "                                colorbar=True)\n",
        "plt.show()"
      ],
      "execution_count": 60,
      "outputs": [
        {
          "output_type": "stream",
          "name": "stdout",
          "text": [
            "\n",
            "\n",
            "confusion matrix\n",
            "\n",
            "\n",
            "[[10 25]\n",
            " [ 4 26]]\n",
            "\n",
            "\n"
          ]
        },
        {
          "output_type": "display_data",
          "data": {
            "image/png": "[encoded data removed]",
            "text/plain": [
              "<Figure size 720x720 with 2 Axes>"
            ]
          },
          "metadata": {
            "needs_background": "light"
          }
        }
      ]
    },
    {
      "cell_type": "code",
      "metadata": {
        "colab": {
          "base_uri": "https://localhost:8080/"
        },
        "id": "ecY6_cGCTput",
        "outputId": "b43bfb37-0184-4bd8-8b70-2fb27a84b792"
      },
      "source": [
        "#Precision, Recall, F1\n",
        "print('\\n')\n",
        "print(\"Precision, Recall, F1\")\n",
        "print('\\n')\n",
        "CR=classification_report(y_test, y_pred_dt)\n",
        "print(CR_dt)\n",
        "print('\\n')"
      ],
      "execution_count": 61,
      "outputs": [
        {
          "output_type": "stream",
          "name": "stdout",
          "text": [
            "\n",
            "\n",
            "Precision, Recall, F1\n",
            "\n",
            "\n",
            "[[10 25]\n",
            " [ 4 26]]\n",
            "\n",
            "\n"
          ]
        }
      ]
    },
    {
      "cell_type": "code",
      "metadata": {
        "id": "E74JMoqLT3xc",
        "colab": {
          "base_uri": "https://localhost:8080/",
          "height": 295
        },
        "outputId": "256e1422-ea56-4f02-b4fa-c00a9cb4fe56"
      },
      "source": [
        "#ROC CURVE\n",
        "fpr_dt, tpr_dt, thresholds = roc_curve(y_test, y_pred_dt)\n",
        "roc_auc = auc(fpr_dt, tpr_dt)\n",
        "plt.figure()\n",
        "plt.plot(fpr_dt, tpr_dt, color='darkorange', lw=1, label='ROC curve (area = %0.4f)' % roc_auc)\n",
        "plt.xlim([0.0, 1.0])\n",
        "plt.ylim([0.0, 1.05])\n",
        "plt.xlabel('False Positive Rate')\n",
        "plt.ylabel('True Positive Rate')\n",
        "plt.title('ROC CURVE')\n",
        "plt.legend(loc=\"lower right\")\n",
        "plt.show()"
      ],
      "execution_count": 62,
      "outputs": [
        {
          "output_type": "display_data",
          "data": {
            "image/png": "[encoded data removed]",
            "text/plain": [
              "<Figure size 432x288 with 1 Axes>"
            ]
          },
          "metadata": {
            "needs_background": "light"
          }
        }
      ]
    },
    {
      "cell_type": "markdown",
      "metadata": {
        "id": "d2OdWioNUFz5"
      },
      "source": [
        "**Random Forest**"
      ]
    },
    {
      "cell_type": "code",
      "metadata": {
        "colab": {
          "base_uri": "https://localhost:8080/"
        },
        "id": "GibpkkzDUMlm",
        "outputId": "dae81ea1-af48-4e44-c47f-ba86a7206ddf"
      },
      "source": [
        "Ran_For=RandomForestClassifier(bootstrap=True, ccp_alpha=0.0, class_weight=None,\n",
        "                       criterion='gini', max_depth=15, max_features='auto',\n",
        "                       max_leaf_nodes=10, max_samples=None,\n",
        "                       min_impurity_decrease=0.0, min_impurity_split=None,\n",
        "                       min_samples_leaf=1, min_samples_split=2,\n",
        "                       min_weight_fraction_leaf=0.0, n_estimators=100,\n",
        "                       n_jobs=None, oob_score=False, random_state=11, verbose=0,\n",
        "                       warm_start=False)\n",
        "Ran_For= Ran_For.fit(X_train , y_train)\n",
        "Ran_For"
      ],
      "execution_count": 63,
      "outputs": [
        {
          "output_type": "execute_result",
          "data": {
            "text/plain": [
              "RandomForestClassifier(bootstrap=True, ccp_alpha=0.0, class_weight=None,\n",
              "                       criterion='gini', max_depth=15, max_features='auto',\n",
              "                       max_leaf_nodes=10, max_samples=None,\n",
              "                       min_impurity_decrease=0.0, min_impurity_split=None,\n",
              "                       min_samples_leaf=1, min_samples_split=2,\n",
              "                       min_weight_fraction_leaf=0.0, n_estimators=100,\n",
              "                       n_jobs=None, oob_score=False, random_state=11, verbose=0,\n",
              "                       warm_start=False)"
            ]
          },
          "metadata": {},
          "execution_count": 63
        }
      ]
    },
    {
      "cell_type": "code",
      "metadata": {
        "id": "R1TkyKM0UTLq",
        "colab": {
          "base_uri": "https://localhost:8080/"
        },
        "outputId": "15d7620b-0bfb-472f-f7a7-67940cfb1ed0"
      },
      "source": [
        "y_pred_rf = Ran_For.predict(X_test)\n",
        "rf=Ran_For.score(X_test, y_test)\n",
        "print('Accuracy score= {:.4f}'.format(Ran_For.score(X_test, y_test)))"
      ],
      "execution_count": 64,
      "outputs": [
        {
          "output_type": "stream",
          "name": "stdout",
          "text": [
            "Accuracy score= 0.7538\n"
          ]
        }
      ]
    },
    {
      "cell_type": "code",
      "metadata": {
        "id": "4r-LGUsZ5_Og",
        "colab": {
          "base_uri": "https://localhost:8080/",
          "height": 727
        },
        "outputId": "901aea24-b5bc-42d9-ba00-8a26661fed72"
      },
      "source": [
        "#Confusion Matrix\n",
        "print('\\n')\n",
        "print(\"confusion matrix\")\n",
        "print('\\n')\n",
        "CR_rf=confusion_matrix(y_test, y_pred_rf)\n",
        "print(CR_rf)\n",
        "print('\\n')\n",
        "\n",
        "fig, ax = plot_confusion_matrix(conf_mat=CR_rf,figsize=(10, 10),\n",
        "                                show_absolute=True,\n",
        "                                show_normed=True,\n",
        "                                colorbar=True)\n",
        "plt.show()"
      ],
      "execution_count": 65,
      "outputs": [
        {
          "output_type": "stream",
          "name": "stdout",
          "text": [
            "\n",
            "\n",
            "confusion matrix\n",
            "\n",
            "\n",
            "[[28  7]\n",
            " [ 9 21]]\n",
            "\n",
            "\n"
          ]
        },
        {
          "output_type": "display_data",
          "data": {
            "image/png": "[encoded data removed]",
            "text/plain": [
              "<Figure size 720x720 with 2 Axes>"
            ]
          },
          "metadata": {
            "needs_background": "light"
          }
        }
      ]
    },
    {
      "cell_type": "code",
      "metadata": {
        "colab": {
          "base_uri": "https://localhost:8080/"
        },
        "id": "DCJbbWaT6Ghr",
        "outputId": "f23cd0f1-4aca-4f6a-87fb-5ea3ecda88e8"
      },
      "source": [
        "#Precision, Recall, F1\n",
        "\n",
        "print('\\n')\n",
        "print(\"Precision, Recall, F1\")\n",
        "print('\\n')\n",
        "CR_rf=classification_report(y_test, y_pred_rf)\n",
        "print(CR_rf)\n",
        "print('\\n')"
      ],
      "execution_count": 66,
      "outputs": [
        {
          "output_type": "stream",
          "name": "stdout",
          "text": [
            "\n",
            "\n",
            "Precision, Recall, F1\n",
            "\n",
            "\n",
            "              precision    recall  f1-score   support\n",
            "\n",
            "         0.0       0.76      0.80      0.78        35\n",
            "         1.0       0.75      0.70      0.72        30\n",
            "\n",
            "    accuracy                           0.75        65\n",
            "   macro avg       0.75      0.75      0.75        65\n",
            "weighted avg       0.75      0.75      0.75        65\n",
            "\n",
            "\n",
            "\n"
          ]
        }
      ]
    },
    {
      "cell_type": "code",
      "metadata": {
        "id": "fK2mmFMm6Re3",
        "colab": {
          "base_uri": "https://localhost:8080/",
          "height": 295
        },
        "outputId": "f5d542c6-3893-4f76-9994-9673f647fc97"
      },
      "source": [
        "#ROC CURVE\n",
        "fpr_rf, tpr_rf, thresholds = roc_curve(y_test, y_pred_rf)\n",
        "roc_auc = auc(fpr_rf, tpr_rf)\n",
        "plt.figure()\n",
        "plt.plot(fpr_rf, tpr_rf, color='darkorange', lw=1, label='ROC curve (area = %0.4f)' % roc_auc)\n",
        "plt.xlim([0.0, 1.0])\n",
        "plt.ylim([0.0, 1.05])\n",
        "plt.xlabel('False Positive Rate')\n",
        "plt.ylabel('True Positive Rate')\n",
        "plt.title('ROC CURVE')\n",
        "plt.legend(loc=\"lower right\")\n",
        "plt.show()"
      ],
      "execution_count": 67,
      "outputs": [
        {
          "output_type": "display_data",
          "data": {
            "image/png": "[encoded data removed]",
            "text/plain": [
              "<Figure size 432x288 with 1 Axes>"
            ]
          },
          "metadata": {
            "needs_background": "light"
          }
        }
      ]
    },
    {
      "cell_type": "markdown",
      "metadata": {
        "id": "qTjmYQPX6-40"
      },
      "source": [
        "**ExtraTreesClassifier**"
      ]
    },
    {
      "cell_type": "code",
      "metadata": {
        "id": "28dS3UW67HN7",
        "colab": {
          "base_uri": "https://localhost:8080/"
        },
        "outputId": "9d0a2a6f-edd9-4eaf-cb90-d6c6534d98a2"
      },
      "source": [
        "from sklearn.ensemble import ExtraTreesClassifier\n",
        "clf = ExtraTreesClassifier(n_estimators=100, random_state=0)\n",
        "clf.fit(X, y)\n",
        "Extra_TC= clf.fit(X_train , y_train)\n",
        "Extra_TC"
      ],
      "execution_count": 80,
      "outputs": [
        {
          "output_type": "execute_result",
          "data": {
            "text/plain": [
              "ExtraTreesClassifier(bootstrap=False, ccp_alpha=0.0, class_weight=None,\n",
              "                     criterion='gini', max_depth=None, max_features='auto',\n",
              "                     max_leaf_nodes=None, max_samples=None,\n",
              "                     min_impurity_decrease=0.0, min_impurity_split=None,\n",
              "                     min_samples_leaf=1, min_samples_split=2,\n",
              "                     min_weight_fraction_leaf=0.0, n_estimators=100,\n",
              "                     n_jobs=None, oob_score=False, random_state=0, verbose=0,\n",
              "                     warm_start=False)"
            ]
          },
          "metadata": {},
          "execution_count": 80
        }
      ]
    },
    {
      "cell_type": "code",
      "metadata": {
        "colab": {
          "base_uri": "https://localhost:8080/"
        },
        "id": "hVjFBWA972D8",
        "outputId": "455297e9-4dac-4303-f39b-fe587c722a7a"
      },
      "source": [
        "y_pred_EXTC = Extra_TC.predict(X_test)\n",
        "etc=Extra_TC.score(X_test, y_test)\n",
        "print('Accuracy score= {:.4f}'.format(Extra_TC.score(X_test, y_test)))"
      ],
      "execution_count": 81,
      "outputs": [
        {
          "output_type": "stream",
          "name": "stdout",
          "text": [
            "Accuracy score= 0.5231\n"
          ]
        }
      ]
    },
    {
      "cell_type": "code",
      "metadata": {
        "id": "2hBewDD68ILm",
        "colab": {
          "base_uri": "https://localhost:8080/",
          "height": 738
        },
        "outputId": "61eace21-117c-4fca-d715-414e19d209e2"
      },
      "source": [
        "#Confusion Matrix\n",
        "print('\\n')\n",
        "print(\"confusion matrix\")\n",
        "print('\\n')\n",
        "CR=confusion_matrix(y_test, y_pred_EXTC)\n",
        "print(CR)\n",
        "print('\\n')\n",
        "fig, ax = plot_confusion_matrix(conf_mat=CR,figsize=(10, 10),\n",
        "show_absolute=True,\n",
        "show_normed=True,\n",
        "colorbar=True)\n",
        "plt.show()"
      ],
      "execution_count": 82,
      "outputs": [
        {
          "output_type": "stream",
          "name": "stdout",
          "text": [
            "\n",
            "\n",
            "confusion matrix\n",
            "\n",
            "\n",
            "[[18 17]\n",
            " [14 16]]\n",
            "\n",
            "\n"
          ]
        },
        {
          "output_type": "display_data",
          "data": {
            "image/png": "[encoded data removed]",
            "text/plain": [
              "<Figure size 720x720 with 2 Axes>"
            ]
          },
          "metadata": {
            "needs_background": "light"
          }
        }
      ]
    },
    {
      "cell_type": "code",
      "metadata": {
        "colab": {
          "base_uri": "https://localhost:8080/"
        },
        "id": "gc6ynV8J8lM-",
        "outputId": "c074fee7-2933-4295-d999-aa398f685ef1"
      },
      "source": [
        "#Precision, Recall, F1\n",
        "\n",
        "print('\\n')\n",
        "print(\"Precision, Recall, F1\")\n",
        "print('\\n')\n",
        "CR_etc=classification_report(y_test, y_pred_EXTC)\n",
        "print(CR_etc)\n",
        "print('\\n')"
      ],
      "execution_count": 71,
      "outputs": [
        {
          "output_type": "stream",
          "name": "stdout",
          "text": [
            "\n",
            "\n",
            "Precision, Recall, F1\n",
            "\n",
            "\n",
            "              precision    recall  f1-score   support\n",
            "\n",
            "         0.0       0.56      0.51      0.54        35\n",
            "         1.0       0.48      0.53      0.51        30\n",
            "\n",
            "    accuracy                           0.52        65\n",
            "   macro avg       0.52      0.52      0.52        65\n",
            "weighted avg       0.53      0.52      0.52        65\n",
            "\n",
            "\n",
            "\n"
          ]
        }
      ]
    },
    {
      "cell_type": "code",
      "metadata": {
        "id": "OHL8hhUt8tHr",
        "colab": {
          "base_uri": "https://localhost:8080/",
          "height": 295
        },
        "outputId": "80dd389a-051f-4be5-e3e0-a8fd1fbbc8ce"
      },
      "source": [
        "#ROC CURVE\n",
        "fpr_EXTC, tpr_EXTC, thresholds = roc_curve(y_test, y_pred_EXTC)\n",
        "roc_auc = auc(fpr_EXTC, tpr_EXTC)\n",
        "plt.figure()\n",
        "plt.plot(fpr_EXTC, tpr_EXTC, color='darkorange', lw=1, label='ROC curve (area = %0.4f)' % roc_auc)\n",
        "plt.xlim([0.0, 1.0])\n",
        "plt.ylim([0.0, 1.05])\n",
        "plt.xlabel('False Positive Rate')\n",
        "plt.ylabel('True Positive Rate')\n",
        "plt.title('ROC CURVE')\n",
        "plt.legend(loc=\"lower right\")\n",
        "plt.show()"
      ],
      "execution_count": 83,
      "outputs": [
        {
          "output_type": "display_data",
          "data": {
            "image/png": "[encoded data removed]",
            "text/plain": [
              "<Figure size 432x288 with 1 Axes>"
            ]
          },
          "metadata": {
            "needs_background": "light"
          }
        }
      ]
    },
    {
      "cell_type": "markdown",
      "metadata": {
        "id": "pQqtEb0W9u7h"
      },
      "source": [
        "**Support Vector Machine (SVM)**"
      ]
    },
    {
      "cell_type": "code",
      "metadata": {
        "colab": {
          "base_uri": "https://localhost:8080/"
        },
        "id": "2PR5S3Rk9xsg",
        "outputId": "00fa5b5d-8061-4d8d-f915-048d5976ca45"
      },
      "source": [
        "svc=LinearSVC(random_state=0, tol=1e-5)\n",
        "svc= svc.fit(X_train , y_train)\n",
        "svc"
      ],
      "execution_count": 73,
      "outputs": [
        {
          "output_type": "execute_result",
          "data": {
            "text/plain": [
              "LinearSVC(C=1.0, class_weight=None, dual=True, fit_intercept=True,\n",
              "          intercept_scaling=1, loss='squared_hinge', max_iter=1000,\n",
              "          multi_class='ovr', penalty='l2', random_state=0, tol=1e-05,\n",
              "          verbose=0)"
            ]
          },
          "metadata": {},
          "execution_count": 73
        }
      ]
    },
    {
      "cell_type": "code",
      "metadata": {
        "colab": {
          "base_uri": "https://localhost:8080/"
        },
        "id": "JUr2Go4i-Ty8",
        "outputId": "2192f3e1-d1cf-4583-c224-87279db50de3"
      },
      "source": [
        "y_pred_svm = svc.predict(X_test)\n",
        "sv=svc.score(X_test, y_test)\n",
        "print('Accuracy score= {:.4f}'.format(svc.score(X_test, y_test)))"
      ],
      "execution_count": 77,
      "outputs": [
        {
          "output_type": "stream",
          "name": "stdout",
          "text": [
            "Accuracy score= 0.6154\n"
          ]
        }
      ]
    },
    {
      "cell_type": "code",
      "metadata": {
        "id": "_rMEZEtx__0E",
        "colab": {
          "base_uri": "https://localhost:8080/",
          "height": 738
        },
        "outputId": "43814bfc-66fd-4696-e7ae-5fbd4b12758f"
      },
      "source": [
        "#Confusion Matrix\n",
        "print('\\n')\n",
        "print(\"confusion matrix\")\n",
        "print('\\n')\n",
        "CR_svm=confusion_matrix(y_test, y_pred_svm)\n",
        "print(CR_svm)\n",
        "print('\\n')\n",
        "\n",
        "fig, ax = plot_confusion_matrix(conf_mat=CR,figsize=(10, 10),\n",
        "                                show_absolute=True,\n",
        "                                show_normed=True,\n",
        "                                colorbar=True)\n",
        "plt.show()"
      ],
      "execution_count": null,
      "outputs": [
        {
          "output_type": "stream",
          "text": [
            "\n",
            "\n",
            "confusion matrix\n",
            "\n",
            "\n",
            "[[22 13]\n",
            " [12 18]]\n",
            "\n",
            "\n"
          ],
          "name": "stdout"
        },
        {
          "output_type": "display_data",
          "data": {
            "image/png": "[encoded data removed]",
            "text/plain": [
              "<Figure size 720x720 with 2 Axes>"
            ]
          },
          "metadata": {
            "tags": [],
            "needs_background": "light"
          }
        }
      ]
    },
    {
      "cell_type": "code",
      "metadata": {
        "id": "0Y1nmJcNAPnf",
        "colab": {
          "base_uri": "https://localhost:8080/"
        },
        "outputId": "549c2583-c69b-4f10-ca71-edb0a2d711e9"
      },
      "source": [
        "#Precision, Recall, F1\n",
        "\n",
        "print('\\n')\n",
        "print(\"Precision, Recall, F1\")\n",
        "print('\\n')\n",
        "CR=classification_report(y_test, y_pred_svm)\n",
        "print(CR)\n",
        "print('\\n')"
      ],
      "execution_count": null,
      "outputs": [
        {
          "output_type": "stream",
          "text": [
            "\n",
            "\n",
            "Precision, Recall, F1\n",
            "\n",
            "\n",
            "              precision    recall  f1-score   support\n",
            "\n",
            "         0.0       0.65      0.63      0.64        35\n",
            "         1.0       0.58      0.60      0.59        30\n",
            "\n",
            "    accuracy                           0.62        65\n",
            "   macro avg       0.61      0.61      0.61        65\n",
            "weighted avg       0.62      0.62      0.62        65\n",
            "\n",
            "\n",
            "\n"
          ],
          "name": "stdout"
        }
      ]
    },
    {
      "cell_type": "code",
      "metadata": {
        "colab": {
          "base_uri": "https://localhost:8080/",
          "height": 295
        },
        "id": "xgjbgFNqAY8Z",
        "outputId": "cb1fec3f-fd02-4a51-cc58-f25df6a10cce"
      },
      "source": [
        "#ROC CURVE\n",
        "fpr_svm, tpr_svm, thresholds = roc_curve(y_test, y_pred_svm)\n",
        "roc_auc = auc(fpr_svm, tpr_svm)\n",
        "plt.figure()\n",
        "plt.plot(fpr_svm, tpr_svm, color='darkorange', lw=1, label='ROC curve (area = %0.4f)' % roc_auc)\n",
        "plt.xlim([0.0, 1.0])\n",
        "plt.ylim([0.0, 1.05])\n",
        "plt.xlabel('False Positive Rate')\n",
        "plt.ylabel('True Positive Rate')\n",
        "plt.title('ROC CURVE')\n",
        "plt.legend(loc=\"lower right\")\n",
        "plt.show()"
      ],
      "execution_count": 78,
      "outputs": [
        {
          "output_type": "display_data",
          "data": {
            "image/png": "[encoded data removed]",
            "text/plain": [
              "<Figure size 432x288 with 1 Axes>"
            ]
          },
          "metadata": {
            "needs_background": "light"
          }
        }
      ]
    },
    {
      "cell_type": "markdown",
      "metadata": {
        "id": "De5VfkhUBEwe"
      },
      "source": [
        "**XGBoost**"
      ]
    },
    {
      "cell_type": "code",
      "metadata": {
        "colab": {
          "base_uri": "https://localhost:8080/"
        },
        "id": "2Rwa8INRBKPf",
        "outputId": "2a6c3b4e-bd7b-4aa7-e4d8-2a39d1eb48c8"
      },
      "source": [
        "\n",
        "from xgboost import XGBClassifier\n",
        "model_XGBC = XGBClassifier()\n",
        "GBC=model_XGBC.fit(X_train , y_train)\n",
        "model_XGBC\n"
      ],
      "execution_count": 84,
      "outputs": [
        {
          "output_type": "execute_result",
          "data": {
            "text/plain": [
              "XGBClassifier(base_score=0.5, booster='gbtree', colsample_bylevel=1,\n",
              "              colsample_bynode=1, colsample_bytree=1, gamma=0,\n",
              "              learning_rate=0.1, max_delta_step=0, max_depth=3,\n",
              "              min_child_weight=1, missing=None, n_estimators=100, n_jobs=1,\n",
              "              nthread=None, objective='binary:logistic', random_state=0,\n",
              "              reg_alpha=0, reg_lambda=1, scale_pos_weight=1, seed=None,\n",
              "              silent=None, subsample=1, verbosity=1)"
            ]
          },
          "metadata": {},
          "execution_count": 84
        }
      ]
    },
    {
      "cell_type": "code",
      "metadata": {
        "colab": {
          "base_uri": "https://localhost:8080/"
        },
        "id": "kXSUCk3jBy3i",
        "outputId": "4328cd39-76b5-462d-949f-a2ca90d31209"
      },
      "source": [
        "y_pred_XGBC = model_XGBC.predict(X_test)\n",
        "xbc=GBC.score(X_test, y_test)\n",
        "print('Accuracy score= {:.4f}'.format(model_XGBC.score(X_test, y_test)))"
      ],
      "execution_count": 85,
      "outputs": [
        {
          "output_type": "stream",
          "name": "stdout",
          "text": [
            "Accuracy score= 0.6154\n"
          ]
        }
      ]
    },
    {
      "cell_type": "code",
      "metadata": {
        "id": "Z640ZAY8GrB4",
        "colab": {
          "base_uri": "https://localhost:8080/",
          "height": 733
        },
        "outputId": "8c9d1167-2109-474d-c554-952bac7ca9c4"
      },
      "source": [
        "#Confusion Matrix\n",
        "print('\\n')\n",
        "print(\"confusion matrix\")\n",
        "print('\\n')\n",
        "CR_xbc=confusion_matrix(y_test, y_pred_XGBC)\n",
        "print(CR_xbc)\n",
        "print('\\n')\n",
        "\n",
        "fig, ax = plot_confusion_matrix(conf_mat=CR_xbc,figsize=(10, 10),\n",
        "                                show_absolute=True,\n",
        "                                show_normed=True,\n",
        "                                colorbar=True)\n",
        "plt.show()"
      ],
      "execution_count": null,
      "outputs": [
        {
          "output_type": "stream",
          "text": [
            "\n",
            "\n",
            "confusion matrix\n",
            "\n",
            "\n",
            "[[23 12]\n",
            " [13 17]]\n",
            "\n",
            "\n"
          ],
          "name": "stdout"
        },
        {
          "output_type": "display_data",
          "data": {
            "image/png": "[encoded data removed]",
            "text/plain": [
              "<Figure size 720x720 with 2 Axes>"
            ]
          },
          "metadata": {
            "tags": [],
            "needs_background": "light"
          }
        }
      ]
    },
    {
      "cell_type": "code",
      "metadata": {
        "id": "wX2zNFbbG1Hw",
        "colab": {
          "base_uri": "https://localhost:8080/"
        },
        "outputId": "4ee16928-da7a-4c3d-ac98-5506a4832b3f"
      },
      "source": [
        "#Precision, Recall, F1\n",
        "\n",
        "print('\\n')\n",
        "print(\"Precision, Recall, F1\")\n",
        "print('\\n')\n",
        "CR=classification_report(y_test, y_pred_XGBC)\n",
        "print(CR)\n",
        "print('\\n')"
      ],
      "execution_count": null,
      "outputs": [
        {
          "output_type": "stream",
          "text": [
            "\n",
            "\n",
            "Precision, Recall, F1\n",
            "\n",
            "\n",
            "              precision    recall  f1-score   support\n",
            "\n",
            "         0.0       0.64      0.66      0.65        35\n",
            "         1.0       0.59      0.57      0.58        30\n",
            "\n",
            "    accuracy                           0.62        65\n",
            "   macro avg       0.61      0.61      0.61        65\n",
            "weighted avg       0.61      0.62      0.61        65\n",
            "\n",
            "\n",
            "\n"
          ],
          "name": "stdout"
        }
      ]
    },
    {
      "cell_type": "code",
      "metadata": {
        "colab": {
          "base_uri": "https://localhost:8080/",
          "height": 295
        },
        "id": "soCfC5FvG9Vk",
        "outputId": "3303211c-f9ad-4103-ead5-9e64d9689f30"
      },
      "source": [
        "#ROC CURVE\n",
        "fpr_XGB, tpr_XGB, thresholds = roc_curve(y_test, y_pred_XGBC)\n",
        "roc_auc = auc(fpr_XGB, tpr_XGB)\n",
        "plt.figure()\n",
        "plt.plot(fpr_XGB, tpr_XGB, color='darkorange', lw=1, label='ROC curve (area = %0.4f)' % roc_auc)\n",
        "plt.xlim([0.0, 1.0])\n",
        "plt.ylim([0.0, 1.05])\n",
        "plt.xlabel('False Positive Rate')\n",
        "plt.ylabel('True Positive Rate')\n",
        "plt.title('ROC CURVE')\n",
        "plt.legend(loc=\"lower right\")\n",
        "plt.show()"
      ],
      "execution_count": 86,
      "outputs": [
        {
          "output_type": "display_data",
          "data": {
            "image/png": "[encoded data removed]",
            "text/plain": [
              "<Figure size 432x288 with 1 Axes>"
            ]
          },
          "metadata": {
            "needs_background": "light"
          }
        }
      ]
    },
    {
      "cell_type": "markdown",
      "metadata": {
        "id": "IxFMb6eGONuX"
      },
      "source": [
        "# **Compare Modle performance**\n"
      ]
    },
    {
      "cell_type": "markdown",
      "metadata": {
        "id": "ZfTAKpgWOb9V"
      },
      "source": [
        "**ROC Curve for Models**"
      ]
    },
    {
      "cell_type": "code",
      "metadata": {
        "id": "ZIRMPLPIOaGL",
        "colab": {
          "base_uri": "https://localhost:8080/",
          "height": 295
        },
        "outputId": "8b3b59d9-0839-43fd-a9a5-08914fc4519d"
      },
      "source": [
        "plt.plot(fpr_dt, tpr_dt, marker='*', label='Decision Trees', color = 'black')\n",
        "plt.plot(fpr_rf, tpr_rf, marker='*', label='Random Forest', color = 'Red')\n",
        "plt.plot(fpr_EXTC, tpr_EXTC, marker='*', label='ExtraTrees Classifier', color = 'green')\n",
        "plt.plot(fpr_svm, tpr_svm, marker='*', label='Support Vector Machine', color = 'yellow')\n",
        "plt.plot(fpr_XGB, tpr_XGB, marker='*', label='XGBoost', color = 'blue')\n",
        "plt.xlabel('False Positive Rate')\n",
        "plt.ylabel('True Positive Rate')\n",
        "plt.title('ROC CURVES OF ALGORITHMS')\n",
        "plt.legend(loc=\"lower right\")\n",
        "plt.show()"
      ],
      "execution_count": 89,
      "outputs": [
        {
          "output_type": "display_data",
          "data": {
            "image/png": "[encoded data removed]",
            "text/plain": [
              "<Figure size 432x288 with 1 Axes>"
            ]
          },
          "metadata": {
            "needs_background": "light"
          }
        }
      ]
    },
    {
      "cell_type": "markdown",
      "metadata": {
        "id": "LJ-9WRR5SUB8"
      },
      "source": [
        "**Comparison of all algorithms Results**"
      ]
    },
    {
      "cell_type": "code",
      "metadata": {
        "colab": {
          "base_uri": "https://localhost:8080/"
        },
        "id": "UAaJWav5SZuk",
        "outputId": "ac95863d-5412-4ae3-d2b6-c6a2ff006029"
      },
      "source": [
        "x = PrettyTable()\n",
        "print('\\n')\n",
        "print(\"Comparison of all algorithm results\")\n",
        "x.field_names = [\"Model\", \"Accuracy\"]\n",
        "\n",
        "\n",
        "x.add_row([\"Decision Trees Algorithm\", round(dt,4)])\n",
        "x.add_row([\"Random Forest Algorithm\", round(rf,4)])\n",
        "x.add_row([\"ExtraTreesClassifier\", round(et,4)])\n",
        "x.add_row([\"Suport Vector Machine\", round(sv,4)])\n",
        "x.add_row([\"XGBoost\", round(xbc,4)])\n",
        "print(x)\n",
        "print('\\n')"
      ],
      "execution_count": null,
      "outputs": [
        {
          "output_type": "stream",
          "text": [
            "\n",
            "\n",
            "Comparison of all algorithm results\n",
            "+--------------------------+----------+\n",
            "|          Model           | Accuracy |\n",
            "+--------------------------+----------+\n",
            "| Decision Trees Algorithm |  0.5538  |\n",
            "| Random Forest Algorithm  |  0.7538  |\n",
            "|   ExtraTreesClassifier   |  0.5231  |\n",
            "|  Suport Vector Machine   |  0.6154  |\n",
            "|         XGBoost          |  0.6154  |\n",
            "+--------------------------+----------+\n",
            "\n",
            "\n"
          ],
          "name": "stdout"
        }
      ]
    },
    {
      "cell_type": "markdown",
      "metadata": {
        "id": "kis-IQv_YW0K"
      },
      "source": [
        "**References**"
      ]
    },
    {
      "cell_type": "markdown",
      "metadata": {
        "id": "cY0f8LVxucoY"
      },
      "source": [
        "[How to Deal with Missing Data in Python](https://towardsdatascience.com/how-to-deal-with-missing-data-in-python-1f74a9112d93)"
      ]
    },
    {
      "cell_type": "markdown",
      "metadata": {
        "id": "uBHQSZgw26Na"
      },
      "source": [
        "[Top Python Libraries to Automate Exploratory Data Analysis in 2021](https://www.analyticsvidhya.com/blog/2021/04/top-python-libraries-to-automate-exploratory-data-analysis-in-2021/)"
      ]
    },
    {
      "cell_type": "markdown",
      "metadata": {
        "id": "wkCfSMiYjvuY"
      },
      "source": [
        "[Campus Recruitement Exploration](https://www.kaggle.com/cs155925/campus-recruitement-exploration)"
      ]
    },
    {
      "cell_type": "markdown",
      "metadata": {
        "id": "5VDvDxNDygfU"
      },
      "source": [
        "[Exploring Correlation in Python: Pandas, SciPy](https://re-thought.com/exploring-correlation-in-python/)"
      ]
    }
  ]
}